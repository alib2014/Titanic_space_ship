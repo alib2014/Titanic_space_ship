{
 "cells": [
  {
   "cell_type": "code",
   "execution_count": 1108,
   "metadata": {},
   "outputs": [],
   "source": [
    "import numpy as np\n",
    "import pandas as pd\n",
    "import matplotlib.pyplot as plt\n",
    "import seaborn as sns"
   ]
  },
  {
   "cell_type": "code",
   "execution_count": 1109,
   "metadata": {},
   "outputs": [
    {
     "data": {
      "text/html": [
       "<div>\n",
       "<style scoped>\n",
       "    .dataframe tbody tr th:only-of-type {\n",
       "        vertical-align: middle;\n",
       "    }\n",
       "\n",
       "    .dataframe tbody tr th {\n",
       "        vertical-align: top;\n",
       "    }\n",
       "\n",
       "    .dataframe thead th {\n",
       "        text-align: right;\n",
       "    }\n",
       "</style>\n",
       "<table border=\"1\" class=\"dataframe\">\n",
       "  <thead>\n",
       "    <tr style=\"text-align: right;\">\n",
       "      <th></th>\n",
       "      <th>PassengerId</th>\n",
       "      <th>HomePlanet</th>\n",
       "      <th>CryoSleep</th>\n",
       "      <th>Cabin</th>\n",
       "      <th>Destination</th>\n",
       "      <th>Age</th>\n",
       "      <th>VIP</th>\n",
       "      <th>RoomService</th>\n",
       "      <th>FoodCourt</th>\n",
       "      <th>ShoppingMall</th>\n",
       "      <th>Spa</th>\n",
       "      <th>VRDeck</th>\n",
       "      <th>Name</th>\n",
       "      <th>Transported</th>\n",
       "    </tr>\n",
       "  </thead>\n",
       "  <tbody>\n",
       "    <tr>\n",
       "      <th>0</th>\n",
       "      <td>0001_01</td>\n",
       "      <td>Europa</td>\n",
       "      <td>False</td>\n",
       "      <td>B/0/P</td>\n",
       "      <td>TRAPPIST-1e</td>\n",
       "      <td>39.0</td>\n",
       "      <td>False</td>\n",
       "      <td>0.0</td>\n",
       "      <td>0.0</td>\n",
       "      <td>0.0</td>\n",
       "      <td>0.0</td>\n",
       "      <td>0.0</td>\n",
       "      <td>Maham Ofracculy</td>\n",
       "      <td>False</td>\n",
       "    </tr>\n",
       "    <tr>\n",
       "      <th>1</th>\n",
       "      <td>0002_01</td>\n",
       "      <td>Earth</td>\n",
       "      <td>False</td>\n",
       "      <td>F/0/S</td>\n",
       "      <td>TRAPPIST-1e</td>\n",
       "      <td>24.0</td>\n",
       "      <td>False</td>\n",
       "      <td>109.0</td>\n",
       "      <td>9.0</td>\n",
       "      <td>25.0</td>\n",
       "      <td>549.0</td>\n",
       "      <td>44.0</td>\n",
       "      <td>Juanna Vines</td>\n",
       "      <td>True</td>\n",
       "    </tr>\n",
       "    <tr>\n",
       "      <th>2</th>\n",
       "      <td>0003_01</td>\n",
       "      <td>Europa</td>\n",
       "      <td>False</td>\n",
       "      <td>A/0/S</td>\n",
       "      <td>TRAPPIST-1e</td>\n",
       "      <td>58.0</td>\n",
       "      <td>True</td>\n",
       "      <td>43.0</td>\n",
       "      <td>3576.0</td>\n",
       "      <td>0.0</td>\n",
       "      <td>6715.0</td>\n",
       "      <td>49.0</td>\n",
       "      <td>Altark Susent</td>\n",
       "      <td>False</td>\n",
       "    </tr>\n",
       "    <tr>\n",
       "      <th>3</th>\n",
       "      <td>0003_02</td>\n",
       "      <td>Europa</td>\n",
       "      <td>False</td>\n",
       "      <td>A/0/S</td>\n",
       "      <td>TRAPPIST-1e</td>\n",
       "      <td>33.0</td>\n",
       "      <td>False</td>\n",
       "      <td>0.0</td>\n",
       "      <td>1283.0</td>\n",
       "      <td>371.0</td>\n",
       "      <td>3329.0</td>\n",
       "      <td>193.0</td>\n",
       "      <td>Solam Susent</td>\n",
       "      <td>False</td>\n",
       "    </tr>\n",
       "    <tr>\n",
       "      <th>4</th>\n",
       "      <td>0004_01</td>\n",
       "      <td>Earth</td>\n",
       "      <td>False</td>\n",
       "      <td>F/1/S</td>\n",
       "      <td>TRAPPIST-1e</td>\n",
       "      <td>16.0</td>\n",
       "      <td>False</td>\n",
       "      <td>303.0</td>\n",
       "      <td>70.0</td>\n",
       "      <td>151.0</td>\n",
       "      <td>565.0</td>\n",
       "      <td>2.0</td>\n",
       "      <td>Willy Santantines</td>\n",
       "      <td>True</td>\n",
       "    </tr>\n",
       "  </tbody>\n",
       "</table>\n",
       "</div>"
      ],
      "text/plain": [
       "  PassengerId HomePlanet CryoSleep  Cabin  Destination   Age    VIP  \\\n",
       "0     0001_01     Europa     False  B/0/P  TRAPPIST-1e  39.0  False   \n",
       "1     0002_01      Earth     False  F/0/S  TRAPPIST-1e  24.0  False   \n",
       "2     0003_01     Europa     False  A/0/S  TRAPPIST-1e  58.0   True   \n",
       "3     0003_02     Europa     False  A/0/S  TRAPPIST-1e  33.0  False   \n",
       "4     0004_01      Earth     False  F/1/S  TRAPPIST-1e  16.0  False   \n",
       "\n",
       "   RoomService  FoodCourt  ShoppingMall     Spa  VRDeck               Name  \\\n",
       "0          0.0        0.0           0.0     0.0     0.0    Maham Ofracculy   \n",
       "1        109.0        9.0          25.0   549.0    44.0       Juanna Vines   \n",
       "2         43.0     3576.0           0.0  6715.0    49.0      Altark Susent   \n",
       "3          0.0     1283.0         371.0  3329.0   193.0       Solam Susent   \n",
       "4        303.0       70.0         151.0   565.0     2.0  Willy Santantines   \n",
       "\n",
       "   Transported  \n",
       "0        False  \n",
       "1         True  \n",
       "2        False  \n",
       "3        False  \n",
       "4         True  "
      ]
     },
     "execution_count": 1109,
     "metadata": {},
     "output_type": "execute_result"
    }
   ],
   "source": [
    "data = pd.read_csv('train.csv')\n",
    "data.head()"
   ]
  },
  {
   "cell_type": "code",
   "execution_count": 1110,
   "metadata": {},
   "outputs": [
    {
     "data": {
      "text/html": [
       "<div>\n",
       "<style scoped>\n",
       "    .dataframe tbody tr th:only-of-type {\n",
       "        vertical-align: middle;\n",
       "    }\n",
       "\n",
       "    .dataframe tbody tr th {\n",
       "        vertical-align: top;\n",
       "    }\n",
       "\n",
       "    .dataframe thead th {\n",
       "        text-align: right;\n",
       "    }\n",
       "</style>\n",
       "<table border=\"1\" class=\"dataframe\">\n",
       "  <thead>\n",
       "    <tr style=\"text-align: right;\">\n",
       "      <th></th>\n",
       "      <th>Age</th>\n",
       "      <th>RoomService</th>\n",
       "      <th>FoodCourt</th>\n",
       "      <th>ShoppingMall</th>\n",
       "      <th>Spa</th>\n",
       "      <th>VRDeck</th>\n",
       "    </tr>\n",
       "  </thead>\n",
       "  <tbody>\n",
       "    <tr>\n",
       "      <th>count</th>\n",
       "      <td>8514.000000</td>\n",
       "      <td>8512.000000</td>\n",
       "      <td>8510.000000</td>\n",
       "      <td>8485.000000</td>\n",
       "      <td>8510.000000</td>\n",
       "      <td>8505.000000</td>\n",
       "    </tr>\n",
       "    <tr>\n",
       "      <th>mean</th>\n",
       "      <td>28.827930</td>\n",
       "      <td>224.687617</td>\n",
       "      <td>458.077203</td>\n",
       "      <td>173.729169</td>\n",
       "      <td>311.138778</td>\n",
       "      <td>304.854791</td>\n",
       "    </tr>\n",
       "    <tr>\n",
       "      <th>std</th>\n",
       "      <td>14.489021</td>\n",
       "      <td>666.717663</td>\n",
       "      <td>1611.489240</td>\n",
       "      <td>604.696458</td>\n",
       "      <td>1136.705535</td>\n",
       "      <td>1145.717189</td>\n",
       "    </tr>\n",
       "    <tr>\n",
       "      <th>min</th>\n",
       "      <td>0.000000</td>\n",
       "      <td>0.000000</td>\n",
       "      <td>0.000000</td>\n",
       "      <td>0.000000</td>\n",
       "      <td>0.000000</td>\n",
       "      <td>0.000000</td>\n",
       "    </tr>\n",
       "    <tr>\n",
       "      <th>25%</th>\n",
       "      <td>19.000000</td>\n",
       "      <td>0.000000</td>\n",
       "      <td>0.000000</td>\n",
       "      <td>0.000000</td>\n",
       "      <td>0.000000</td>\n",
       "      <td>0.000000</td>\n",
       "    </tr>\n",
       "    <tr>\n",
       "      <th>50%</th>\n",
       "      <td>27.000000</td>\n",
       "      <td>0.000000</td>\n",
       "      <td>0.000000</td>\n",
       "      <td>0.000000</td>\n",
       "      <td>0.000000</td>\n",
       "      <td>0.000000</td>\n",
       "    </tr>\n",
       "    <tr>\n",
       "      <th>75%</th>\n",
       "      <td>38.000000</td>\n",
       "      <td>47.000000</td>\n",
       "      <td>76.000000</td>\n",
       "      <td>27.000000</td>\n",
       "      <td>59.000000</td>\n",
       "      <td>46.000000</td>\n",
       "    </tr>\n",
       "    <tr>\n",
       "      <th>max</th>\n",
       "      <td>79.000000</td>\n",
       "      <td>14327.000000</td>\n",
       "      <td>29813.000000</td>\n",
       "      <td>23492.000000</td>\n",
       "      <td>22408.000000</td>\n",
       "      <td>24133.000000</td>\n",
       "    </tr>\n",
       "  </tbody>\n",
       "</table>\n",
       "</div>"
      ],
      "text/plain": [
       "               Age   RoomService     FoodCourt  ShoppingMall           Spa  \\\n",
       "count  8514.000000   8512.000000   8510.000000   8485.000000   8510.000000   \n",
       "mean     28.827930    224.687617    458.077203    173.729169    311.138778   \n",
       "std      14.489021    666.717663   1611.489240    604.696458   1136.705535   \n",
       "min       0.000000      0.000000      0.000000      0.000000      0.000000   \n",
       "25%      19.000000      0.000000      0.000000      0.000000      0.000000   \n",
       "50%      27.000000      0.000000      0.000000      0.000000      0.000000   \n",
       "75%      38.000000     47.000000     76.000000     27.000000     59.000000   \n",
       "max      79.000000  14327.000000  29813.000000  23492.000000  22408.000000   \n",
       "\n",
       "             VRDeck  \n",
       "count   8505.000000  \n",
       "mean     304.854791  \n",
       "std     1145.717189  \n",
       "min        0.000000  \n",
       "25%        0.000000  \n",
       "50%        0.000000  \n",
       "75%       46.000000  \n",
       "max    24133.000000  "
      ]
     },
     "execution_count": 1110,
     "metadata": {},
     "output_type": "execute_result"
    }
   ],
   "source": [
    "data.describe()"
   ]
  },
  {
   "cell_type": "code",
   "execution_count": 1111,
   "metadata": {},
   "outputs": [
    {
     "name": "stdout",
     "output_type": "stream",
     "text": [
      "<class 'pandas.core.frame.DataFrame'>\n",
      "RangeIndex: 8693 entries, 0 to 8692\n",
      "Data columns (total 14 columns):\n",
      " #   Column        Non-Null Count  Dtype  \n",
      "---  ------        --------------  -----  \n",
      " 0   PassengerId   8693 non-null   object \n",
      " 1   HomePlanet    8492 non-null   object \n",
      " 2   CryoSleep     8476 non-null   object \n",
      " 3   Cabin         8494 non-null   object \n",
      " 4   Destination   8511 non-null   object \n",
      " 5   Age           8514 non-null   float64\n",
      " 6   VIP           8490 non-null   object \n",
      " 7   RoomService   8512 non-null   float64\n",
      " 8   FoodCourt     8510 non-null   float64\n",
      " 9   ShoppingMall  8485 non-null   float64\n",
      " 10  Spa           8510 non-null   float64\n",
      " 11  VRDeck        8505 non-null   float64\n",
      " 12  Name          8493 non-null   object \n",
      " 13  Transported   8693 non-null   bool   \n",
      "dtypes: bool(1), float64(6), object(7)\n",
      "memory usage: 891.5+ KB\n"
     ]
    }
   ],
   "source": [
    "data.info()"
   ]
  },
  {
   "cell_type": "code",
   "execution_count": 1112,
   "metadata": {},
   "outputs": [
    {
     "data": {
      "text/plain": [
       "(8693, 14)"
      ]
     },
     "execution_count": 1112,
     "metadata": {},
     "output_type": "execute_result"
    }
   ],
   "source": [
    "data.shape"
   ]
  },
  {
   "cell_type": "code",
   "execution_count": 1113,
   "metadata": {},
   "outputs": [
    {
     "data": {
      "text/plain": [
       "array([[<Axes: title={'center': 'Age'}>,\n",
       "        <Axes: title={'center': 'RoomService'}>],\n",
       "       [<Axes: title={'center': 'FoodCourt'}>,\n",
       "        <Axes: title={'center': 'ShoppingMall'}>],\n",
       "       [<Axes: title={'center': 'Spa'}>,\n",
       "        <Axes: title={'center': 'VRDeck'}>]], dtype=object)"
      ]
     },
     "execution_count": 1113,
     "metadata": {},
     "output_type": "execute_result"
    },
    {
     "data": {
      "image/png": "[encoded data removed]",
      "text/plain": [
       "<Figure size 1080x576 with 6 Axes>"
      ]
     },
     "metadata": {
      "needs_background": "light"
     },
     "output_type": "display_data"
    }
   ],
   "source": [
    "data.hist(figsize=(15, 8))"
   ]
  },
  {
   "cell_type": "markdown",
   "metadata": {},
   "source": [
    "# Train-Test Split"
   ]
  },
  {
   "cell_type": "code",
   "execution_count": 1114,
   "metadata": {},
   "outputs": [
    {
     "name": "stdout",
     "output_type": "stream",
     "text": [
      "(6954, 18)\n",
      "(1739, 18)\n"
     ]
    }
   ],
   "source": [
    "from sklearn.model_selection import train_test_split\n",
    "\n",
    "data_copy = data.copy()\n",
    "data = pd.get_dummies(data, dtype='int', columns=['HomePlanet', 'Destination'])\n",
    "train_data, test_data = train_test_split(data, random_state=42, train_size=0.8)\n",
    "# train_data_copy, test_data_copy = train_data.copy(), test_data.copy()\n",
    "train_data_copy, test_data_copy = train_test_split(data_copy, random_state=42, train_size=0.8)\n",
    "\n",
    "print(train_data.shape)\n",
    "print(test_data.shape)"
   ]
  },
  {
   "cell_type": "code",
   "execution_count": 1115,
   "metadata": {},
   "outputs": [
    {
     "data": {
      "text/html": [
       "<div>\n",
       "<style scoped>\n",
       "    .dataframe tbody tr th:only-of-type {\n",
       "        vertical-align: middle;\n",
       "    }\n",
       "\n",
       "    .dataframe tbody tr th {\n",
       "        vertical-align: top;\n",
       "    }\n",
       "\n",
       "    .dataframe thead th {\n",
       "        text-align: right;\n",
       "    }\n",
       "</style>\n",
       "<table border=\"1\" class=\"dataframe\">\n",
       "  <thead>\n",
       "    <tr style=\"text-align: right;\">\n",
       "      <th></th>\n",
       "      <th>PassengerId</th>\n",
       "      <th>CryoSleep</th>\n",
       "      <th>Cabin</th>\n",
       "      <th>Age</th>\n",
       "      <th>VIP</th>\n",
       "      <th>RoomService</th>\n",
       "      <th>FoodCourt</th>\n",
       "      <th>ShoppingMall</th>\n",
       "      <th>Spa</th>\n",
       "      <th>VRDeck</th>\n",
       "      <th>Name</th>\n",
       "      <th>Transported</th>\n",
       "      <th>HomePlanet_Earth</th>\n",
       "      <th>HomePlanet_Europa</th>\n",
       "      <th>HomePlanet_Mars</th>\n",
       "      <th>Destination_55 Cancri e</th>\n",
       "      <th>Destination_PSO J318.5-22</th>\n",
       "      <th>Destination_TRAPPIST-1e</th>\n",
       "    </tr>\n",
       "  </thead>\n",
       "  <tbody>\n",
       "    <tr>\n",
       "      <th>2333</th>\n",
       "      <td>2513_01</td>\n",
       "      <td>False</td>\n",
       "      <td>NaN</td>\n",
       "      <td>28.0</td>\n",
       "      <td>False</td>\n",
       "      <td>0.0</td>\n",
       "      <td>55.0</td>\n",
       "      <td>0.0</td>\n",
       "      <td>656.0</td>\n",
       "      <td>0.0</td>\n",
       "      <td>Loree Mathison</td>\n",
       "      <td>False</td>\n",
       "      <td>1</td>\n",
       "      <td>0</td>\n",
       "      <td>0</td>\n",
       "      <td>0</td>\n",
       "      <td>0</td>\n",
       "      <td>1</td>\n",
       "    </tr>\n",
       "    <tr>\n",
       "      <th>2589</th>\n",
       "      <td>2774_02</td>\n",
       "      <td>False</td>\n",
       "      <td>F/575/P</td>\n",
       "      <td>17.0</td>\n",
       "      <td>False</td>\n",
       "      <td>0.0</td>\n",
       "      <td>1195.0</td>\n",
       "      <td>31.0</td>\n",
       "      <td>0.0</td>\n",
       "      <td>0.0</td>\n",
       "      <td>Crisey Mcbriddley</td>\n",
       "      <td>False</td>\n",
       "      <td>1</td>\n",
       "      <td>0</td>\n",
       "      <td>0</td>\n",
       "      <td>0</td>\n",
       "      <td>0</td>\n",
       "      <td>1</td>\n",
       "    </tr>\n",
       "    <tr>\n",
       "      <th>8302</th>\n",
       "      <td>8862_04</td>\n",
       "      <td>True</td>\n",
       "      <td>C/329/S</td>\n",
       "      <td>28.0</td>\n",
       "      <td>False</td>\n",
       "      <td>0.0</td>\n",
       "      <td>0.0</td>\n",
       "      <td>0.0</td>\n",
       "      <td>0.0</td>\n",
       "      <td>0.0</td>\n",
       "      <td>Alramix Myling</td>\n",
       "      <td>True</td>\n",
       "      <td>0</td>\n",
       "      <td>1</td>\n",
       "      <td>0</td>\n",
       "      <td>1</td>\n",
       "      <td>0</td>\n",
       "      <td>0</td>\n",
       "    </tr>\n",
       "    <tr>\n",
       "      <th>8177</th>\n",
       "      <td>8736_02</td>\n",
       "      <td>False</td>\n",
       "      <td>F/1800/P</td>\n",
       "      <td>20.0</td>\n",
       "      <td>False</td>\n",
       "      <td>NaN</td>\n",
       "      <td>2.0</td>\n",
       "      <td>289.0</td>\n",
       "      <td>976.0</td>\n",
       "      <td>0.0</td>\n",
       "      <td>Tros Pota</td>\n",
       "      <td>True</td>\n",
       "      <td>0</td>\n",
       "      <td>0</td>\n",
       "      <td>1</td>\n",
       "      <td>0</td>\n",
       "      <td>0</td>\n",
       "      <td>1</td>\n",
       "    </tr>\n",
       "    <tr>\n",
       "      <th>500</th>\n",
       "      <td>0539_02</td>\n",
       "      <td>True</td>\n",
       "      <td>C/18/P</td>\n",
       "      <td>36.0</td>\n",
       "      <td>False</td>\n",
       "      <td>0.0</td>\n",
       "      <td>0.0</td>\n",
       "      <td>0.0</td>\n",
       "      <td>0.0</td>\n",
       "      <td>0.0</td>\n",
       "      <td>Achyon Nalanet</td>\n",
       "      <td>True</td>\n",
       "      <td>0</td>\n",
       "      <td>1</td>\n",
       "      <td>0</td>\n",
       "      <td>1</td>\n",
       "      <td>0</td>\n",
       "      <td>0</td>\n",
       "    </tr>\n",
       "  </tbody>\n",
       "</table>\n",
       "</div>"
      ],
      "text/plain": [
       "     PassengerId CryoSleep     Cabin   Age    VIP  RoomService  FoodCourt  \\\n",
       "2333     2513_01     False       NaN  28.0  False          0.0       55.0   \n",
       "2589     2774_02     False   F/575/P  17.0  False          0.0     1195.0   \n",
       "8302     8862_04      True   C/329/S  28.0  False          0.0        0.0   \n",
       "8177     8736_02     False  F/1800/P  20.0  False          NaN        2.0   \n",
       "500      0539_02      True    C/18/P  36.0  False          0.0        0.0   \n",
       "\n",
       "      ShoppingMall    Spa  VRDeck               Name  Transported  \\\n",
       "2333           0.0  656.0     0.0     Loree Mathison        False   \n",
       "2589          31.0    0.0     0.0  Crisey Mcbriddley        False   \n",
       "8302           0.0    0.0     0.0     Alramix Myling         True   \n",
       "8177         289.0  976.0     0.0          Tros Pota         True   \n",
       "500            0.0    0.0     0.0     Achyon Nalanet         True   \n",
       "\n",
       "      HomePlanet_Earth  HomePlanet_Europa  HomePlanet_Mars  \\\n",
       "2333                 1                  0                0   \n",
       "2589                 1                  0                0   \n",
       "8302                 0                  1                0   \n",
       "8177                 0                  0                1   \n",
       "500                  0                  1                0   \n",
       "\n",
       "      Destination_55 Cancri e  Destination_PSO J318.5-22  \\\n",
       "2333                        0                          0   \n",
       "2589                        0                          0   \n",
       "8302                        1                          0   \n",
       "8177                        0                          0   \n",
       "500                         1                          0   \n",
       "\n",
       "      Destination_TRAPPIST-1e  \n",
       "2333                        1  \n",
       "2589                        1  \n",
       "8302                        0  \n",
       "8177                        1  \n",
       "500                         0  "
      ]
     },
     "execution_count": 1115,
     "metadata": {},
     "output_type": "execute_result"
    }
   ],
   "source": [
    "train_data.head()"
   ]
  },
  {
   "cell_type": "markdown",
   "metadata": {},
   "source": [
    "# EDA"
   ]
  },
  {
   "cell_type": "code",
   "execution_count": 1116,
   "metadata": {},
   "outputs": [
    {
     "name": "stderr",
     "output_type": "stream",
     "text": [
      "C:\\Users\\hi\\AppData\\Local\\Temp\\ipykernel_13752\\2561385843.py:2: FutureWarning: \n",
      "\n",
      "Passing `palette` without assigning `hue` is deprecated and will be removed in v0.14.0. Assign the `x` variable to `hue` and set `legend=False` for the same effect.\n",
      "\n",
      "  sns.countplot(data=train_data, x='Transported', palette='plasma')\n"
     ]
    },
    {
     "data": {
      "text/plain": [
       "<Axes: xlabel='Transported', ylabel='count'>"
      ]
     },
     "execution_count": 1116,
     "metadata": {},
     "output_type": "execute_result"
    },
    {
     "data": {
      "image/png": "[encoded data removed]",
      "text/plain": [
       "<Figure size 864x432 with 1 Axes>"
      ]
     },
     "metadata": {
      "needs_background": "light"
     },
     "output_type": "display_data"
    }
   ],
   "source": [
    "plt.figure(figsize=(12, 6))\n",
    "sns.countplot(data=train_data, x='Transported', palette='plasma')"
   ]
  },
  {
   "cell_type": "markdown",
   "metadata": {},
   "source": [
    "##### This bar plot shows us that number of samplse in each category is equal. So we assured that the data is balanced"
   ]
  },
  {
   "cell_type": "code",
   "execution_count": 1117,
   "metadata": {},
   "outputs": [
    {
     "data": {
      "text/plain": [
       "<Axes: ylabel='RoomService'>"
      ]
     },
     "execution_count": 1117,
     "metadata": {},
     "output_type": "execute_result"
    },
    {
     "data": {
      "image/png": "[encoded data removed]",
      "text/plain": [
       "<Figure size 1440x720 with 6 Axes>"
      ]
     },
     "metadata": {
      "needs_background": "light"
     },
     "output_type": "display_data"
    }
   ],
   "source": [
    "fig, axs = plt.subplots(2, 3, figsize=(20, 10))\n",
    "\n",
    "sns.violinplot(y='Age', hue='Transported', data=data_copy, palette='Set1', ax=axs[0][0])\n",
    "sns.violinplot(y='VRDeck', hue='Transported', data=data_copy, palette='Set1', ax=axs[0][1])\n",
    "sns.violinplot(y='Spa', hue='Transported', data=data_copy, palette='Set1', ax=axs[1][0])\n",
    "sns.violinplot(y='FoodCourt', hue='Transported', data=data_copy, palette='Set1', ax=axs[1][1])\n",
    "sns.violinplot(y='ShoppingMall', hue='Transported', data=data_copy, palette='Set1', ax=axs[0][2])\n",
    "sns.violinplot(y='RoomService', hue='Transported', data=data_copy, palette='Set1', ax=axs[1][2])"
   ]
  },
  {
   "cell_type": "code",
   "execution_count": 1118,
   "metadata": {},
   "outputs": [
    {
     "data": {
      "text/plain": [
       "<Axes: xlabel='RoomService', ylabel='Density'>"
      ]
     },
     "execution_count": 1118,
     "metadata": {},
     "output_type": "execute_result"
    },
    {
     "data": {
      "image/png": "[encoded data removed]",
      "text/plain": [
       "<Figure size 1440x720 with 6 Axes>"
      ]
     },
     "metadata": {
      "needs_background": "light"
     },
     "output_type": "display_data"
    }
   ],
   "source": [
    "fig, axs = plt.subplots(2, 3, figsize=(20, 10))\n",
    "\n",
    "sns.kdeplot(x='Age', hue='Transported', data=data_copy, palette='plasma', ax=axs[0][0], fill=True)\n",
    "sns.kdeplot(x='VRDeck', hue='Transported', data=data_copy, palette='plasma', ax=axs[0][1], fill=True)\n",
    "sns.kdeplot(x='Spa', hue='Transported', data=data_copy, palette='plasma', ax=axs[1][0], fill=True)\n",
    "sns.kdeplot(x='FoodCourt', hue='Transported', data=data_copy, palette='plasma', ax=axs[1][1], fill=True)\n",
    "sns.kdeplot(x='ShoppingMall', hue='Transported', data=data_copy, palette='plasma', ax=axs[0][2], fill=True)\n",
    "sns.kdeplot(x='RoomService', hue='Transported', data=data_copy, palette='plasma', ax=axs[1][2], fill=True)"
   ]
  },
  {
   "cell_type": "markdown",
   "metadata": {},
   "source": [
    "##### Using these two sets of plots we wanted to investigate the relation between each numerical variable and the target variable but as it is clear the distribution of each variable in both categories is aproximately the same.So, it is not possible to give a definite opinion.\n",
    "##### By looking at violin plots we can see that there are lots of outliers in our data."
   ]
  },
  {
   "cell_type": "code",
   "execution_count": 1119,
   "metadata": {},
   "outputs": [
    {
     "name": "stdout",
     "output_type": "stream",
     "text": [
      "Transported  False  True \n",
      "VIP                      \n",
      "False         4093   4198\n",
      "True           123     76\n"
     ]
    }
   ],
   "source": [
    "contingency_table_VT = pd.crosstab(data_copy['VIP'], data_copy['Transported'])\n",
    "print(contingency_table_VT)"
   ]
  },
  {
   "cell_type": "code",
   "execution_count": 1120,
   "metadata": {},
   "outputs": [
    {
     "data": {
      "image/png": "[encoded data removed]",
      "text/plain": [
       "<Figure size 576x432 with 2 Axes>"
      ]
     },
     "metadata": {
      "needs_background": "light"
     },
     "output_type": "display_data"
    }
   ],
   "source": [
    "plt.figure(figsize=(8, 6))\n",
    "sns.heatmap(contingency_table_VT, annot=True, cmap='plasma')\n",
    "plt.xlabel('VIP')\n",
    "plt.ylabel('Transported')\n",
    "plt.show()"
   ]
  },
  {
   "cell_type": "code",
   "execution_count": 1121,
   "metadata": {},
   "outputs": [
    {
     "name": "stdout",
     "output_type": "stream",
     "text": [
      "Transported  False  True \n",
      "CryoSleep                \n",
      "False         3650   1789\n",
      "True           554   2483\n"
     ]
    }
   ],
   "source": [
    "contingency_table_CT = pd.crosstab(data_copy['CryoSleep'], data_copy['Transported'])\n",
    "print(contingency_table_CT)"
   ]
  },
  {
   "cell_type": "code",
   "execution_count": 1122,
   "metadata": {},
   "outputs": [
    {
     "data": {
      "image/png": "[encoded data removed]",
      "text/plain": [
       "<Figure size 576x432 with 2 Axes>"
      ]
     },
     "metadata": {
      "needs_background": "light"
     },
     "output_type": "display_data"
    }
   ],
   "source": [
    "plt.figure(figsize=(8, 6))\n",
    "sns.heatmap(contingency_table_CT, annot=True, cmap='plasma')\n",
    "plt.xlabel('CryoSleep')\n",
    "plt.ylabel('Transported')\n",
    "plt.show()"
   ]
  },
  {
   "cell_type": "code",
   "execution_count": 1123,
   "metadata": {},
   "outputs": [
    {
     "name": "stdout",
     "output_type": "stream",
     "text": [
      "Transported  False  True \n",
      "HomePlanet               \n",
      "Earth         2651   1951\n",
      "Europa         727   1404\n",
      "Mars           839    920\n"
     ]
    }
   ],
   "source": [
    "contingency_table_HT = pd.crosstab(data_copy['HomePlanet'], data_copy['Transported'])\n",
    "print(contingency_table_HT)"
   ]
  },
  {
   "cell_type": "code",
   "execution_count": 1124,
   "metadata": {},
   "outputs": [
    {
     "data": {
      "image/png": "[encoded data removed]",
      "text/plain": [
       "<Figure size 576x432 with 2 Axes>"
      ]
     },
     "metadata": {
      "needs_background": "light"
     },
     "output_type": "display_data"
    }
   ],
   "source": [
    "plt.figure(figsize=(8, 6))\n",
    "sns.heatmap(contingency_table_HT, annot=True, cmap='plasma')\n",
    "plt.xlabel('HomePlanet')\n",
    "plt.ylabel('Transported')\n",
    "plt.show()"
   ]
  },
  {
   "cell_type": "code",
   "execution_count": 1125,
   "metadata": {},
   "outputs": [
    {
     "data": {
      "image/png": "[encoded data removed]",
      "text/plain": [
       "<Figure size 1080x432 with 2 Axes>"
      ]
     },
     "metadata": {
      "needs_background": "light"
     },
     "output_type": "display_data"
    }
   ],
   "source": [
    "fig, axes = plt.subplots(1, 2, figsize=(15, 6))\n",
    "\n",
    "sns.countplot(x='Destination', hue='Transported', data=data_copy, palette='viridis', ax=axes[0]).set_title('Distribution of Passengers by HomePlanet and Transported')\n",
    "plt.pie(data_copy['Destination'].value_counts(), labels=data_copy['Destination'].value_counts().index, autopct='%.2f%%', colors=sns.color_palette('Set2'))\n",
    "plt.tight_layout()\n",
    "plt.show()"
   ]
  },
  {
   "cell_type": "code",
   "execution_count": 1126,
   "metadata": {},
   "outputs": [
    {
     "data": {
      "image/png": "[encoded data removed]",
      "text/plain": [
       "<Figure size 1080x432 with 2 Axes>"
      ]
     },
     "metadata": {
      "needs_background": "light"
     },
     "output_type": "display_data"
    }
   ],
   "source": [
    "fig, axes = plt.subplots(1, 2, figsize=(15, 6))\n",
    "\n",
    "sns.countplot(x='HomePlanet', hue='Transported', data=data_copy, palette='viridis', ax=axes[0]).set_title('Distribution of Passengers by HomePlanet and Transported')\n",
    "plt.pie(data_copy['HomePlanet'].value_counts(), labels=data_copy['HomePlanet'].value_counts().index, autopct='%.2f%%', colors=sns.color_palette('Set2'))\n",
    "plt.tight_layout()\n",
    "plt.show()"
   ]
  },
  {
   "cell_type": "code",
   "execution_count": 1127,
   "metadata": {},
   "outputs": [
    {
     "data": {
      "image/png": "[encoded data removed]",
      "text/plain": [
       "<Figure size 1080x432 with 2 Axes>"
      ]
     },
     "metadata": {
      "needs_background": "light"
     },
     "output_type": "display_data"
    }
   ],
   "source": [
    "fig, axes = plt.subplots(1, 2, figsize=(15, 6))\n",
    "\n",
    "sns.countplot(x='VIP', hue='Transported', data=data_copy, palette='viridis', ax=axes[0]).set_title('Distribution of Passengers by HomePlanet and Transported')\n",
    "plt.pie(data_copy['VIP'].value_counts(), labels=data_copy['VIP'].value_counts().index, autopct='%.2f%%', colors=sns.color_palette('Set2'))\n",
    "plt.tight_layout()\n",
    "plt.show()"
   ]
  },
  {
   "cell_type": "code",
   "execution_count": 1128,
   "metadata": {},
   "outputs": [
    {
     "data": {
      "image/png": "[encoded data removed]",
      "text/plain": [
       "<Figure size 1080x432 with 2 Axes>"
      ]
     },
     "metadata": {
      "needs_background": "light"
     },
     "output_type": "display_data"
    }
   ],
   "source": [
    "fig, axes = plt.subplots(1, 2, figsize=(15, 6))\n",
    "\n",
    "sns.countplot(x='CryoSleep', hue='Transported', data=data_copy, palette='viridis', ax=axes[0]).set_title('Distribution of Passengers by HomePlanet and Transported')\n",
    "plt.pie(data_copy['CryoSleep'].value_counts(), labels=data_copy['CryoSleep'].value_counts().index, autopct='%.2f%%', colors=sns.color_palette('Set2'))\n",
    "plt.tight_layout()\n",
    "plt.show()"
   ]
  },
  {
   "cell_type": "markdown",
   "metadata": {},
   "source": [
    "##### In this section we wanted to investigate the relation between each categorical variable and the target variable. Although the distribution of the categories are not the same and we can not speak definitely, the results arre as below:\n",
    "##### CryoSleep: Most of the passengers has CryoSleep equal to false and between those who have false CryoSleep, more than 50% have not been transported and most of the passengers with this feature true have been trans ported so we can say that with CryoSleep equal to true you are more likely to be transported.\n",
    "##### VIP: As it is obvious most of the passengers have this feature false so we can not give a definite opinion about this feature.\n",
    "##### HomePlanet: Most of the passengers are from earth and also they are less likely to be transported as opposed to two other planets."
   ]
  },
  {
   "cell_type": "code",
   "execution_count": 1129,
   "metadata": {},
   "outputs": [
    {
     "data": {
      "text/plain": [
       "<Axes: >"
      ]
     },
     "execution_count": 1129,
     "metadata": {},
     "output_type": "execute_result"
    },
    {
     "data": {
      "image/png": "[encoded data removed]",
      "text/plain": [
       "<Figure size 720x504 with 2 Axes>"
      ]
     },
     "metadata": {
      "needs_background": "light"
     },
     "output_type": "display_data"
    }
   ],
   "source": [
    "num_data = data_copy.select_dtypes(['float', 'int'])\n",
    "corr_matrix = num_data.corr()\n",
    "plt.figure(figsize=(10, 7))\n",
    "corr_matrix = corr_matrix.where(np.tril(np.ones(corr_matrix.shape)).astype(np.bool_))\n",
    "sns.heatmap(corr_matrix, annot=True, cmap='Blues')"
   ]
  },
  {
   "cell_type": "markdown",
   "metadata": {},
   "source": [
    "# PreProcessing \n",
    "### 1) dropping PassengerId and Name column"
   ]
  },
  {
   "cell_type": "code",
   "execution_count": 1130,
   "metadata": {},
   "outputs": [
    {
     "data": {
      "text/html": [
       "<div>\n",
       "<style scoped>\n",
       "    .dataframe tbody tr th:only-of-type {\n",
       "        vertical-align: middle;\n",
       "    }\n",
       "\n",
       "    .dataframe tbody tr th {\n",
       "        vertical-align: top;\n",
       "    }\n",
       "\n",
       "    .dataframe thead th {\n",
       "        text-align: right;\n",
       "    }\n",
       "</style>\n",
       "<table border=\"1\" class=\"dataframe\">\n",
       "  <thead>\n",
       "    <tr style=\"text-align: right;\">\n",
       "      <th></th>\n",
       "      <th>CryoSleep</th>\n",
       "      <th>Cabin</th>\n",
       "      <th>Age</th>\n",
       "      <th>VIP</th>\n",
       "      <th>RoomService</th>\n",
       "      <th>FoodCourt</th>\n",
       "      <th>ShoppingMall</th>\n",
       "      <th>Spa</th>\n",
       "      <th>VRDeck</th>\n",
       "      <th>Transported</th>\n",
       "      <th>HomePlanet_Earth</th>\n",
       "      <th>HomePlanet_Europa</th>\n",
       "      <th>HomePlanet_Mars</th>\n",
       "      <th>Destination_55 Cancri e</th>\n",
       "      <th>Destination_PSO J318.5-22</th>\n",
       "      <th>Destination_TRAPPIST-1e</th>\n",
       "    </tr>\n",
       "  </thead>\n",
       "  <tbody>\n",
       "    <tr>\n",
       "      <th>2333</th>\n",
       "      <td>False</td>\n",
       "      <td>NaN</td>\n",
       "      <td>28.0</td>\n",
       "      <td>False</td>\n",
       "      <td>0.0</td>\n",
       "      <td>55.0</td>\n",
       "      <td>0.0</td>\n",
       "      <td>656.0</td>\n",
       "      <td>0.0</td>\n",
       "      <td>False</td>\n",
       "      <td>1</td>\n",
       "      <td>0</td>\n",
       "      <td>0</td>\n",
       "      <td>0</td>\n",
       "      <td>0</td>\n",
       "      <td>1</td>\n",
       "    </tr>\n",
       "    <tr>\n",
       "      <th>2589</th>\n",
       "      <td>False</td>\n",
       "      <td>F/575/P</td>\n",
       "      <td>17.0</td>\n",
       "      <td>False</td>\n",
       "      <td>0.0</td>\n",
       "      <td>1195.0</td>\n",
       "      <td>31.0</td>\n",
       "      <td>0.0</td>\n",
       "      <td>0.0</td>\n",
       "      <td>False</td>\n",
       "      <td>1</td>\n",
       "      <td>0</td>\n",
       "      <td>0</td>\n",
       "      <td>0</td>\n",
       "      <td>0</td>\n",
       "      <td>1</td>\n",
       "    </tr>\n",
       "    <tr>\n",
       "      <th>8302</th>\n",
       "      <td>True</td>\n",
       "      <td>C/329/S</td>\n",
       "      <td>28.0</td>\n",
       "      <td>False</td>\n",
       "      <td>0.0</td>\n",
       "      <td>0.0</td>\n",
       "      <td>0.0</td>\n",
       "      <td>0.0</td>\n",
       "      <td>0.0</td>\n",
       "      <td>True</td>\n",
       "      <td>0</td>\n",
       "      <td>1</td>\n",
       "      <td>0</td>\n",
       "      <td>1</td>\n",
       "      <td>0</td>\n",
       "      <td>0</td>\n",
       "    </tr>\n",
       "    <tr>\n",
       "      <th>8177</th>\n",
       "      <td>False</td>\n",
       "      <td>F/1800/P</td>\n",
       "      <td>20.0</td>\n",
       "      <td>False</td>\n",
       "      <td>NaN</td>\n",
       "      <td>2.0</td>\n",
       "      <td>289.0</td>\n",
       "      <td>976.0</td>\n",
       "      <td>0.0</td>\n",
       "      <td>True</td>\n",
       "      <td>0</td>\n",
       "      <td>0</td>\n",
       "      <td>1</td>\n",
       "      <td>0</td>\n",
       "      <td>0</td>\n",
       "      <td>1</td>\n",
       "    </tr>\n",
       "    <tr>\n",
       "      <th>500</th>\n",
       "      <td>True</td>\n",
       "      <td>C/18/P</td>\n",
       "      <td>36.0</td>\n",
       "      <td>False</td>\n",
       "      <td>0.0</td>\n",
       "      <td>0.0</td>\n",
       "      <td>0.0</td>\n",
       "      <td>0.0</td>\n",
       "      <td>0.0</td>\n",
       "      <td>True</td>\n",
       "      <td>0</td>\n",
       "      <td>1</td>\n",
       "      <td>0</td>\n",
       "      <td>1</td>\n",
       "      <td>0</td>\n",
       "      <td>0</td>\n",
       "    </tr>\n",
       "  </tbody>\n",
       "</table>\n",
       "</div>"
      ],
      "text/plain": [
       "     CryoSleep     Cabin   Age    VIP  RoomService  FoodCourt  ShoppingMall  \\\n",
       "2333     False       NaN  28.0  False          0.0       55.0           0.0   \n",
       "2589     False   F/575/P  17.0  False          0.0     1195.0          31.0   \n",
       "8302      True   C/329/S  28.0  False          0.0        0.0           0.0   \n",
       "8177     False  F/1800/P  20.0  False          NaN        2.0         289.0   \n",
       "500       True    C/18/P  36.0  False          0.0        0.0           0.0   \n",
       "\n",
       "        Spa  VRDeck  Transported  HomePlanet_Earth  HomePlanet_Europa  \\\n",
       "2333  656.0     0.0        False                 1                  0   \n",
       "2589    0.0     0.0        False                 1                  0   \n",
       "8302    0.0     0.0         True                 0                  1   \n",
       "8177  976.0     0.0         True                 0                  0   \n",
       "500     0.0     0.0         True                 0                  1   \n",
       "\n",
       "      HomePlanet_Mars  Destination_55 Cancri e  Destination_PSO J318.5-22  \\\n",
       "2333                0                        0                          0   \n",
       "2589                0                        0                          0   \n",
       "8302                0                        1                          0   \n",
       "8177                1                        0                          0   \n",
       "500                 0                        1                          0   \n",
       "\n",
       "      Destination_TRAPPIST-1e  \n",
       "2333                        1  \n",
       "2589                        1  \n",
       "8302                        0  \n",
       "8177                        1  \n",
       "500                         0  "
      ]
     },
     "execution_count": 1130,
     "metadata": {},
     "output_type": "execute_result"
    }
   ],
   "source": [
    "test_data = test_data.drop(columns=['PassengerId', 'Name'])\n",
    "train_data = train_data.drop(columns=['PassengerId', 'Name'])\n",
    "train_data.head()"
   ]
  },
  {
   "cell_type": "markdown",
   "metadata": {},
   "source": [
    "### 2) Imputing Missing values"
   ]
  },
  {
   "cell_type": "code",
   "execution_count": 1131,
   "metadata": {},
   "outputs": [
    {
     "data": {
      "text/plain": [
       "CryoSleep                    177\n",
       "Cabin                        158\n",
       "Age                          148\n",
       "VIP                          162\n",
       "RoomService                  126\n",
       "FoodCourt                    140\n",
       "ShoppingMall                 165\n",
       "Spa                          134\n",
       "VRDeck                       151\n",
       "Transported                    0\n",
       "HomePlanet_Earth               0\n",
       "HomePlanet_Europa              0\n",
       "HomePlanet_Mars                0\n",
       "Destination_55 Cancri e        0\n",
       "Destination_PSO J318.5-22      0\n",
       "Destination_TRAPPIST-1e        0\n",
       "dtype: int64"
      ]
     },
     "execution_count": 1131,
     "metadata": {},
     "output_type": "execute_result"
    }
   ],
   "source": [
    "train_data.isnull().sum()"
   ]
  },
  {
   "cell_type": "code",
   "execution_count": 1132,
   "metadata": {},
   "outputs": [
    {
     "data": {
      "text/html": [
       "<div>\n",
       "<style scoped>\n",
       "    .dataframe tbody tr th:only-of-type {\n",
       "        vertical-align: middle;\n",
       "    }\n",
       "\n",
       "    .dataframe tbody tr th {\n",
       "        vertical-align: top;\n",
       "    }\n",
       "\n",
       "    .dataframe thead th {\n",
       "        text-align: right;\n",
       "    }\n",
       "</style>\n",
       "<table border=\"1\" class=\"dataframe\">\n",
       "  <thead>\n",
       "    <tr style=\"text-align: right;\">\n",
       "      <th></th>\n",
       "      <th>Age</th>\n",
       "      <th>RoomService</th>\n",
       "      <th>FoodCourt</th>\n",
       "      <th>ShoppingMall</th>\n",
       "      <th>Spa</th>\n",
       "      <th>VRDeck</th>\n",
       "      <th>HomePlanet_Earth</th>\n",
       "      <th>HomePlanet_Europa</th>\n",
       "      <th>HomePlanet_Mars</th>\n",
       "      <th>Destination_55 Cancri e</th>\n",
       "      <th>Destination_PSO J318.5-22</th>\n",
       "      <th>Destination_TRAPPIST-1e</th>\n",
       "    </tr>\n",
       "  </thead>\n",
       "  <tbody>\n",
       "    <tr>\n",
       "      <th>2333</th>\n",
       "      <td>28.0</td>\n",
       "      <td>0.0</td>\n",
       "      <td>55.0</td>\n",
       "      <td>0.0</td>\n",
       "      <td>656.0</td>\n",
       "      <td>0.0</td>\n",
       "      <td>1</td>\n",
       "      <td>0</td>\n",
       "      <td>0</td>\n",
       "      <td>0</td>\n",
       "      <td>0</td>\n",
       "      <td>1</td>\n",
       "    </tr>\n",
       "    <tr>\n",
       "      <th>2589</th>\n",
       "      <td>17.0</td>\n",
       "      <td>0.0</td>\n",
       "      <td>1195.0</td>\n",
       "      <td>31.0</td>\n",
       "      <td>0.0</td>\n",
       "      <td>0.0</td>\n",
       "      <td>1</td>\n",
       "      <td>0</td>\n",
       "      <td>0</td>\n",
       "      <td>0</td>\n",
       "      <td>0</td>\n",
       "      <td>1</td>\n",
       "    </tr>\n",
       "    <tr>\n",
       "      <th>8302</th>\n",
       "      <td>28.0</td>\n",
       "      <td>0.0</td>\n",
       "      <td>0.0</td>\n",
       "      <td>0.0</td>\n",
       "      <td>0.0</td>\n",
       "      <td>0.0</td>\n",
       "      <td>0</td>\n",
       "      <td>1</td>\n",
       "      <td>0</td>\n",
       "      <td>1</td>\n",
       "      <td>0</td>\n",
       "      <td>0</td>\n",
       "    </tr>\n",
       "    <tr>\n",
       "      <th>8177</th>\n",
       "      <td>20.0</td>\n",
       "      <td>NaN</td>\n",
       "      <td>2.0</td>\n",
       "      <td>289.0</td>\n",
       "      <td>976.0</td>\n",
       "      <td>0.0</td>\n",
       "      <td>0</td>\n",
       "      <td>0</td>\n",
       "      <td>1</td>\n",
       "      <td>0</td>\n",
       "      <td>0</td>\n",
       "      <td>1</td>\n",
       "    </tr>\n",
       "    <tr>\n",
       "      <th>500</th>\n",
       "      <td>36.0</td>\n",
       "      <td>0.0</td>\n",
       "      <td>0.0</td>\n",
       "      <td>0.0</td>\n",
       "      <td>0.0</td>\n",
       "      <td>0.0</td>\n",
       "      <td>0</td>\n",
       "      <td>1</td>\n",
       "      <td>0</td>\n",
       "      <td>1</td>\n",
       "      <td>0</td>\n",
       "      <td>0</td>\n",
       "    </tr>\n",
       "  </tbody>\n",
       "</table>\n",
       "</div>"
      ],
      "text/plain": [
       "       Age  RoomService  FoodCourt  ShoppingMall    Spa  VRDeck  \\\n",
       "2333  28.0          0.0       55.0           0.0  656.0     0.0   \n",
       "2589  17.0          0.0     1195.0          31.0    0.0     0.0   \n",
       "8302  28.0          0.0        0.0           0.0    0.0     0.0   \n",
       "8177  20.0          NaN        2.0         289.0  976.0     0.0   \n",
       "500   36.0          0.0        0.0           0.0    0.0     0.0   \n",
       "\n",
       "      HomePlanet_Earth  HomePlanet_Europa  HomePlanet_Mars  \\\n",
       "2333                 1                  0                0   \n",
       "2589                 1                  0                0   \n",
       "8302                 0                  1                0   \n",
       "8177                 0                  0                1   \n",
       "500                  0                  1                0   \n",
       "\n",
       "      Destination_55 Cancri e  Destination_PSO J318.5-22  \\\n",
       "2333                        0                          0   \n",
       "2589                        0                          0   \n",
       "8302                        1                          0   \n",
       "8177                        0                          0   \n",
       "500                         1                          0   \n",
       "\n",
       "      Destination_TRAPPIST-1e  \n",
       "2333                        1  \n",
       "2589                        1  \n",
       "8302                        0  \n",
       "8177                        1  \n",
       "500                         0  "
      ]
     },
     "execution_count": 1132,
     "metadata": {},
     "output_type": "execute_result"
    }
   ],
   "source": [
    "test_numeric_data = test_data.select_dtypes(['float', 'int'])\n",
    "train_numeric_data = train_data.select_dtypes(['float', 'int'])\n",
    "train_numeric_data.head()"
   ]
  },
  {
   "cell_type": "code",
   "execution_count": 1133,
   "metadata": {},
   "outputs": [
    {
     "data": {
      "text/html": [
       "<div>\n",
       "<style scoped>\n",
       "    .dataframe tbody tr th:only-of-type {\n",
       "        vertical-align: middle;\n",
       "    }\n",
       "\n",
       "    .dataframe tbody tr th {\n",
       "        vertical-align: top;\n",
       "    }\n",
       "\n",
       "    .dataframe thead th {\n",
       "        text-align: right;\n",
       "    }\n",
       "</style>\n",
       "<table border=\"1\" class=\"dataframe\">\n",
       "  <thead>\n",
       "    <tr style=\"text-align: right;\">\n",
       "      <th></th>\n",
       "      <th>CryoSleep</th>\n",
       "      <th>Cabin</th>\n",
       "      <th>VIP</th>\n",
       "      <th>Transported</th>\n",
       "    </tr>\n",
       "  </thead>\n",
       "  <tbody>\n",
       "    <tr>\n",
       "      <th>2333</th>\n",
       "      <td>False</td>\n",
       "      <td>NaN</td>\n",
       "      <td>False</td>\n",
       "      <td>False</td>\n",
       "    </tr>\n",
       "    <tr>\n",
       "      <th>2589</th>\n",
       "      <td>False</td>\n",
       "      <td>F/575/P</td>\n",
       "      <td>False</td>\n",
       "      <td>False</td>\n",
       "    </tr>\n",
       "    <tr>\n",
       "      <th>8302</th>\n",
       "      <td>True</td>\n",
       "      <td>C/329/S</td>\n",
       "      <td>False</td>\n",
       "      <td>True</td>\n",
       "    </tr>\n",
       "    <tr>\n",
       "      <th>8177</th>\n",
       "      <td>False</td>\n",
       "      <td>F/1800/P</td>\n",
       "      <td>False</td>\n",
       "      <td>True</td>\n",
       "    </tr>\n",
       "    <tr>\n",
       "      <th>500</th>\n",
       "      <td>True</td>\n",
       "      <td>C/18/P</td>\n",
       "      <td>False</td>\n",
       "      <td>True</td>\n",
       "    </tr>\n",
       "  </tbody>\n",
       "</table>\n",
       "</div>"
      ],
      "text/plain": [
       "     CryoSleep     Cabin    VIP  Transported\n",
       "2333     False       NaN  False        False\n",
       "2589     False   F/575/P  False        False\n",
       "8302      True   C/329/S  False         True\n",
       "8177     False  F/1800/P  False         True\n",
       "500       True    C/18/P  False         True"
      ]
     },
     "execution_count": 1133,
     "metadata": {},
     "output_type": "execute_result"
    }
   ],
   "source": [
    "test_str_data = test_data.select_dtypes(['object', 'bool'])\n",
    "train_str_data = train_data.select_dtypes(['object', 'bool'])\n",
    "train_str_data.head()"
   ]
  },
  {
   "cell_type": "code",
   "execution_count": 1134,
   "metadata": {},
   "outputs": [
    {
     "name": "stdout",
     "output_type": "stream",
     "text": [
      "       Age  RoomService  FoodCourt  ShoppingMall    Spa  VRDeck  \\\n",
      "2333  28.0     0.000000       55.0           0.0  656.0     0.0   \n",
      "2589  17.0     0.000000     1195.0          31.0    0.0     0.0   \n",
      "8302  28.0     0.000000        0.0           0.0    0.0     0.0   \n",
      "8177  20.0   222.822935        2.0         289.0  976.0     0.0   \n",
      "500   36.0     0.000000        0.0           0.0    0.0     0.0   \n",
      "\n",
      "      HomePlanet_Earth  HomePlanet_Europa  HomePlanet_Mars  \\\n",
      "2333               1.0                0.0              0.0   \n",
      "2589               1.0                0.0              0.0   \n",
      "8302               0.0                1.0              0.0   \n",
      "8177               0.0                0.0              1.0   \n",
      "500                0.0                1.0              0.0   \n",
      "\n",
      "      Destination_55 Cancri e  Destination_PSO J318.5-22  \\\n",
      "2333                      0.0                        0.0   \n",
      "2589                      0.0                        0.0   \n",
      "8302                      1.0                        0.0   \n",
      "8177                      0.0                        0.0   \n",
      "500                       1.0                        0.0   \n",
      "\n",
      "      Destination_TRAPPIST-1e  \n",
      "2333                      1.0  \n",
      "2589                      1.0  \n",
      "8302                      0.0  \n",
      "8177                      1.0  \n",
      "500                       0.0  \n",
      "     CryoSleep     Cabin    VIP Transported\n",
      "2333     False    B/82/S  False       False\n",
      "2589     False   F/575/P  False       False\n",
      "8302      True   C/329/S  False        True\n",
      "8177     False  F/1800/P  False        True\n",
      "500       True    C/18/P  False        True\n"
     ]
    }
   ],
   "source": [
    "from sklearn.impute import SimpleImputer\n",
    "\n",
    "mean_imputer = SimpleImputer(strategy='mean')\n",
    "mod_imputer = SimpleImputer(strategy='most_frequent')\n",
    "\n",
    "train_numeric_data = pd.DataFrame(mean_imputer.fit_transform(train_numeric_data), columns=train_numeric_data.columns, index=train_numeric_data.index)\n",
    "train_str_data = pd.DataFrame(mod_imputer.fit_transform(train_str_data), columns=train_str_data.columns, index=train_str_data.index)\n",
    "\n",
    "test_numeric_data = pd.DataFrame(mean_imputer.transform(test_numeric_data), columns=test_numeric_data.columns, index=test_numeric_data.index)\n",
    "test_str_data = pd.DataFrame(mod_imputer.transform(test_str_data), columns=test_str_data.columns, index=test_str_data.index)\n",
    "\n",
    "print(train_numeric_data.head())\n",
    "print(train_str_data.head())"
   ]
  },
  {
   "cell_type": "code",
   "execution_count": 1135,
   "metadata": {},
   "outputs": [
    {
     "data": {
      "text/html": [
       "<div>\n",
       "<style scoped>\n",
       "    .dataframe tbody tr th:only-of-type {\n",
       "        vertical-align: middle;\n",
       "    }\n",
       "\n",
       "    .dataframe tbody tr th {\n",
       "        vertical-align: top;\n",
       "    }\n",
       "\n",
       "    .dataframe thead th {\n",
       "        text-align: right;\n",
       "    }\n",
       "</style>\n",
       "<table border=\"1\" class=\"dataframe\">\n",
       "  <thead>\n",
       "    <tr style=\"text-align: right;\">\n",
       "      <th></th>\n",
       "      <th>Age</th>\n",
       "      <th>RoomService</th>\n",
       "      <th>FoodCourt</th>\n",
       "      <th>ShoppingMall</th>\n",
       "      <th>Spa</th>\n",
       "      <th>VRDeck</th>\n",
       "      <th>HomePlanet_Earth</th>\n",
       "      <th>HomePlanet_Europa</th>\n",
       "      <th>HomePlanet_Mars</th>\n",
       "      <th>Destination_55 Cancri e</th>\n",
       "      <th>Destination_PSO J318.5-22</th>\n",
       "      <th>Destination_TRAPPIST-1e</th>\n",
       "      <th>CryoSleep</th>\n",
       "      <th>Cabin</th>\n",
       "      <th>VIP</th>\n",
       "      <th>Transported</th>\n",
       "    </tr>\n",
       "  </thead>\n",
       "  <tbody>\n",
       "    <tr>\n",
       "      <th>2333</th>\n",
       "      <td>28.0</td>\n",
       "      <td>0.000000</td>\n",
       "      <td>55.0</td>\n",
       "      <td>0.0</td>\n",
       "      <td>656.0</td>\n",
       "      <td>0.0</td>\n",
       "      <td>1.0</td>\n",
       "      <td>0.0</td>\n",
       "      <td>0.0</td>\n",
       "      <td>0.0</td>\n",
       "      <td>0.0</td>\n",
       "      <td>1.0</td>\n",
       "      <td>False</td>\n",
       "      <td>B/82/S</td>\n",
       "      <td>False</td>\n",
       "      <td>False</td>\n",
       "    </tr>\n",
       "    <tr>\n",
       "      <th>2589</th>\n",
       "      <td>17.0</td>\n",
       "      <td>0.000000</td>\n",
       "      <td>1195.0</td>\n",
       "      <td>31.0</td>\n",
       "      <td>0.0</td>\n",
       "      <td>0.0</td>\n",
       "      <td>1.0</td>\n",
       "      <td>0.0</td>\n",
       "      <td>0.0</td>\n",
       "      <td>0.0</td>\n",
       "      <td>0.0</td>\n",
       "      <td>1.0</td>\n",
       "      <td>False</td>\n",
       "      <td>F/575/P</td>\n",
       "      <td>False</td>\n",
       "      <td>False</td>\n",
       "    </tr>\n",
       "    <tr>\n",
       "      <th>8302</th>\n",
       "      <td>28.0</td>\n",
       "      <td>0.000000</td>\n",
       "      <td>0.0</td>\n",
       "      <td>0.0</td>\n",
       "      <td>0.0</td>\n",
       "      <td>0.0</td>\n",
       "      <td>0.0</td>\n",
       "      <td>1.0</td>\n",
       "      <td>0.0</td>\n",
       "      <td>1.0</td>\n",
       "      <td>0.0</td>\n",
       "      <td>0.0</td>\n",
       "      <td>True</td>\n",
       "      <td>C/329/S</td>\n",
       "      <td>False</td>\n",
       "      <td>True</td>\n",
       "    </tr>\n",
       "    <tr>\n",
       "      <th>8177</th>\n",
       "      <td>20.0</td>\n",
       "      <td>222.822935</td>\n",
       "      <td>2.0</td>\n",
       "      <td>289.0</td>\n",
       "      <td>976.0</td>\n",
       "      <td>0.0</td>\n",
       "      <td>0.0</td>\n",
       "      <td>0.0</td>\n",
       "      <td>1.0</td>\n",
       "      <td>0.0</td>\n",
       "      <td>0.0</td>\n",
       "      <td>1.0</td>\n",
       "      <td>False</td>\n",
       "      <td>F/1800/P</td>\n",
       "      <td>False</td>\n",
       "      <td>True</td>\n",
       "    </tr>\n",
       "    <tr>\n",
       "      <th>500</th>\n",
       "      <td>36.0</td>\n",
       "      <td>0.000000</td>\n",
       "      <td>0.0</td>\n",
       "      <td>0.0</td>\n",
       "      <td>0.0</td>\n",
       "      <td>0.0</td>\n",
       "      <td>0.0</td>\n",
       "      <td>1.0</td>\n",
       "      <td>0.0</td>\n",
       "      <td>1.0</td>\n",
       "      <td>0.0</td>\n",
       "      <td>0.0</td>\n",
       "      <td>True</td>\n",
       "      <td>C/18/P</td>\n",
       "      <td>False</td>\n",
       "      <td>True</td>\n",
       "    </tr>\n",
       "  </tbody>\n",
       "</table>\n",
       "</div>"
      ],
      "text/plain": [
       "       Age  RoomService  FoodCourt  ShoppingMall    Spa  VRDeck  \\\n",
       "2333  28.0     0.000000       55.0           0.0  656.0     0.0   \n",
       "2589  17.0     0.000000     1195.0          31.0    0.0     0.0   \n",
       "8302  28.0     0.000000        0.0           0.0    0.0     0.0   \n",
       "8177  20.0   222.822935        2.0         289.0  976.0     0.0   \n",
       "500   36.0     0.000000        0.0           0.0    0.0     0.0   \n",
       "\n",
       "      HomePlanet_Earth  HomePlanet_Europa  HomePlanet_Mars  \\\n",
       "2333               1.0                0.0              0.0   \n",
       "2589               1.0                0.0              0.0   \n",
       "8302               0.0                1.0              0.0   \n",
       "8177               0.0                0.0              1.0   \n",
       "500                0.0                1.0              0.0   \n",
       "\n",
       "      Destination_55 Cancri e  Destination_PSO J318.5-22  \\\n",
       "2333                      0.0                        0.0   \n",
       "2589                      0.0                        0.0   \n",
       "8302                      1.0                        0.0   \n",
       "8177                      0.0                        0.0   \n",
       "500                       1.0                        0.0   \n",
       "\n",
       "      Destination_TRAPPIST-1e CryoSleep     Cabin    VIP Transported  \n",
       "2333                      1.0     False    B/82/S  False       False  \n",
       "2589                      1.0     False   F/575/P  False       False  \n",
       "8302                      0.0      True   C/329/S  False        True  \n",
       "8177                      1.0     False  F/1800/P  False        True  \n",
       "500                       0.0      True    C/18/P  False        True  "
      ]
     },
     "execution_count": 1135,
     "metadata": {},
     "output_type": "execute_result"
    }
   ],
   "source": [
    "train_data = pd.concat([train_numeric_data, train_str_data], axis=1)\n",
    "test_data = pd.concat([test_numeric_data, test_str_data], axis=1)\n",
    "train_data.head()"
   ]
  },
  {
   "cell_type": "code",
   "execution_count": 1136,
   "metadata": {},
   "outputs": [
    {
     "data": {
      "text/html": [
       "<div>\n",
       "<style scoped>\n",
       "    .dataframe tbody tr th:only-of-type {\n",
       "        vertical-align: middle;\n",
       "    }\n",
       "\n",
       "    .dataframe tbody tr th {\n",
       "        vertical-align: top;\n",
       "    }\n",
       "\n",
       "    .dataframe thead th {\n",
       "        text-align: right;\n",
       "    }\n",
       "</style>\n",
       "<table border=\"1\" class=\"dataframe\">\n",
       "  <thead>\n",
       "    <tr style=\"text-align: right;\">\n",
       "      <th></th>\n",
       "      <th>Age</th>\n",
       "      <th>RoomService</th>\n",
       "      <th>FoodCourt</th>\n",
       "      <th>ShoppingMall</th>\n",
       "      <th>Spa</th>\n",
       "      <th>VRDeck</th>\n",
       "      <th>HomePlanet_Earth</th>\n",
       "      <th>HomePlanet_Europa</th>\n",
       "      <th>HomePlanet_Mars</th>\n",
       "      <th>Destination_55 Cancri e</th>\n",
       "      <th>Destination_PSO J318.5-22</th>\n",
       "      <th>Destination_TRAPPIST-1e</th>\n",
       "      <th>CryoSleep</th>\n",
       "      <th>Cabin</th>\n",
       "      <th>VIP</th>\n",
       "      <th>Transported</th>\n",
       "    </tr>\n",
       "  </thead>\n",
       "  <tbody>\n",
       "    <tr>\n",
       "      <th>304</th>\n",
       "      <td>19.0</td>\n",
       "      <td>417.0</td>\n",
       "      <td>349.0</td>\n",
       "      <td>634.0</td>\n",
       "      <td>3.000000</td>\n",
       "      <td>1057.0</td>\n",
       "      <td>0.0</td>\n",
       "      <td>0.0</td>\n",
       "      <td>1.0</td>\n",
       "      <td>0.0</td>\n",
       "      <td>0.0</td>\n",
       "      <td>1.0</td>\n",
       "      <td>False</td>\n",
       "      <td>F/63/S</td>\n",
       "      <td>False</td>\n",
       "      <td>True</td>\n",
       "    </tr>\n",
       "    <tr>\n",
       "      <th>2697</th>\n",
       "      <td>18.0</td>\n",
       "      <td>4.0</td>\n",
       "      <td>904.0</td>\n",
       "      <td>0.0</td>\n",
       "      <td>0.000000</td>\n",
       "      <td>1.0</td>\n",
       "      <td>1.0</td>\n",
       "      <td>0.0</td>\n",
       "      <td>0.0</td>\n",
       "      <td>0.0</td>\n",
       "      <td>0.0</td>\n",
       "      <td>1.0</td>\n",
       "      <td>False</td>\n",
       "      <td>G/460/S</td>\n",
       "      <td>False</td>\n",
       "      <td>False</td>\n",
       "    </tr>\n",
       "    <tr>\n",
       "      <th>8424</th>\n",
       "      <td>41.0</td>\n",
       "      <td>0.0</td>\n",
       "      <td>0.0</td>\n",
       "      <td>0.0</td>\n",
       "      <td>0.000000</td>\n",
       "      <td>0.0</td>\n",
       "      <td>1.0</td>\n",
       "      <td>0.0</td>\n",
       "      <td>0.0</td>\n",
       "      <td>0.0</td>\n",
       "      <td>0.0</td>\n",
       "      <td>1.0</td>\n",
       "      <td>True</td>\n",
       "      <td>G/1449/S</td>\n",
       "      <td>False</td>\n",
       "      <td>False</td>\n",
       "    </tr>\n",
       "    <tr>\n",
       "      <th>1672</th>\n",
       "      <td>35.0</td>\n",
       "      <td>0.0</td>\n",
       "      <td>338.0</td>\n",
       "      <td>436.0</td>\n",
       "      <td>315.693842</td>\n",
       "      <td>0.0</td>\n",
       "      <td>1.0</td>\n",
       "      <td>0.0</td>\n",
       "      <td>0.0</td>\n",
       "      <td>0.0</td>\n",
       "      <td>0.0</td>\n",
       "      <td>1.0</td>\n",
       "      <td>False</td>\n",
       "      <td>G/291/P</td>\n",
       "      <td>False</td>\n",
       "      <td>True</td>\n",
       "    </tr>\n",
       "    <tr>\n",
       "      <th>8458</th>\n",
       "      <td>43.0</td>\n",
       "      <td>0.0</td>\n",
       "      <td>0.0</td>\n",
       "      <td>0.0</td>\n",
       "      <td>0.000000</td>\n",
       "      <td>0.0</td>\n",
       "      <td>0.0</td>\n",
       "      <td>1.0</td>\n",
       "      <td>0.0</td>\n",
       "      <td>0.0</td>\n",
       "      <td>0.0</td>\n",
       "      <td>1.0</td>\n",
       "      <td>True</td>\n",
       "      <td>D/288/P</td>\n",
       "      <td>False</td>\n",
       "      <td>True</td>\n",
       "    </tr>\n",
       "  </tbody>\n",
       "</table>\n",
       "</div>"
      ],
      "text/plain": [
       "       Age  RoomService  FoodCourt  ShoppingMall         Spa  VRDeck  \\\n",
       "304   19.0        417.0      349.0         634.0    3.000000  1057.0   \n",
       "2697  18.0          4.0      904.0           0.0    0.000000     1.0   \n",
       "8424  41.0          0.0        0.0           0.0    0.000000     0.0   \n",
       "1672  35.0          0.0      338.0         436.0  315.693842     0.0   \n",
       "8458  43.0          0.0        0.0           0.0    0.000000     0.0   \n",
       "\n",
       "      HomePlanet_Earth  HomePlanet_Europa  HomePlanet_Mars  \\\n",
       "304                0.0                0.0              1.0   \n",
       "2697               1.0                0.0              0.0   \n",
       "8424               1.0                0.0              0.0   \n",
       "1672               1.0                0.0              0.0   \n",
       "8458               0.0                1.0              0.0   \n",
       "\n",
       "      Destination_55 Cancri e  Destination_PSO J318.5-22  \\\n",
       "304                       0.0                        0.0   \n",
       "2697                      0.0                        0.0   \n",
       "8424                      0.0                        0.0   \n",
       "1672                      0.0                        0.0   \n",
       "8458                      0.0                        0.0   \n",
       "\n",
       "      Destination_TRAPPIST-1e CryoSleep     Cabin    VIP Transported  \n",
       "304                       1.0     False    F/63/S  False        True  \n",
       "2697                      1.0     False   G/460/S  False       False  \n",
       "8424                      1.0      True  G/1449/S  False       False  \n",
       "1672                      1.0     False   G/291/P  False        True  \n",
       "8458                      1.0      True   D/288/P  False        True  "
      ]
     },
     "execution_count": 1136,
     "metadata": {},
     "output_type": "execute_result"
    }
   ],
   "source": [
    "test_data.head()"
   ]
  },
  {
   "cell_type": "code",
   "execution_count": 1137,
   "metadata": {},
   "outputs": [
    {
     "data": {
      "text/plain": [
       "Age                          0\n",
       "RoomService                  0\n",
       "FoodCourt                    0\n",
       "ShoppingMall                 0\n",
       "Spa                          0\n",
       "VRDeck                       0\n",
       "HomePlanet_Earth             0\n",
       "HomePlanet_Europa            0\n",
       "HomePlanet_Mars              0\n",
       "Destination_55 Cancri e      0\n",
       "Destination_PSO J318.5-22    0\n",
       "Destination_TRAPPIST-1e      0\n",
       "CryoSleep                    0\n",
       "Cabin                        0\n",
       "VIP                          0\n",
       "Transported                  0\n",
       "dtype: int64"
      ]
     },
     "execution_count": 1137,
     "metadata": {},
     "output_type": "execute_result"
    }
   ],
   "source": [
    "train_data.isnull().sum()"
   ]
  },
  {
   "cell_type": "markdown",
   "metadata": {},
   "source": [
    "##### In this part we first splitted our data into to categorical and numerical data because we can not use the same approaches for both of them. Then we have exchanged null values with mean in numerical variable and most_frequent in categorical variable. For numerical variables we could also use median strategy but since we are suppose to use Linear Discriminant Analysis it is better to use mean strategy because this model is sensitive to the distribution of data."
   ]
  },
  {
   "cell_type": "markdown",
   "metadata": {},
   "source": [
    "### 3) Encoding categorical data"
   ]
  },
  {
   "cell_type": "code",
   "execution_count": 1138,
   "metadata": {},
   "outputs": [
    {
     "data": {
      "text/html": [
       "<div>\n",
       "<style scoped>\n",
       "    .dataframe tbody tr th:only-of-type {\n",
       "        vertical-align: middle;\n",
       "    }\n",
       "\n",
       "    .dataframe tbody tr th {\n",
       "        vertical-align: top;\n",
       "    }\n",
       "\n",
       "    .dataframe thead th {\n",
       "        text-align: right;\n",
       "    }\n",
       "</style>\n",
       "<table border=\"1\" class=\"dataframe\">\n",
       "  <thead>\n",
       "    <tr style=\"text-align: right;\">\n",
       "      <th></th>\n",
       "      <th>Age</th>\n",
       "      <th>RoomService</th>\n",
       "      <th>FoodCourt</th>\n",
       "      <th>ShoppingMall</th>\n",
       "      <th>Spa</th>\n",
       "      <th>VRDeck</th>\n",
       "      <th>HomePlanet_Earth</th>\n",
       "      <th>HomePlanet_Europa</th>\n",
       "      <th>HomePlanet_Mars</th>\n",
       "      <th>Destination_55 Cancri e</th>\n",
       "      <th>Destination_PSO J318.5-22</th>\n",
       "      <th>Destination_TRAPPIST-1e</th>\n",
       "      <th>CryoSleep</th>\n",
       "      <th>Cabin</th>\n",
       "      <th>VIP</th>\n",
       "      <th>Transported</th>\n",
       "    </tr>\n",
       "  </thead>\n",
       "  <tbody>\n",
       "    <tr>\n",
       "      <th>2333</th>\n",
       "      <td>28.0</td>\n",
       "      <td>0.000000</td>\n",
       "      <td>55.0</td>\n",
       "      <td>0.0</td>\n",
       "      <td>656.0</td>\n",
       "      <td>0.0</td>\n",
       "      <td>1.0</td>\n",
       "      <td>0.0</td>\n",
       "      <td>0.0</td>\n",
       "      <td>0.0</td>\n",
       "      <td>0.0</td>\n",
       "      <td>1.0</td>\n",
       "      <td>0</td>\n",
       "      <td>B/82/S</td>\n",
       "      <td>0</td>\n",
       "      <td>0</td>\n",
       "    </tr>\n",
       "    <tr>\n",
       "      <th>2589</th>\n",
       "      <td>17.0</td>\n",
       "      <td>0.000000</td>\n",
       "      <td>1195.0</td>\n",
       "      <td>31.0</td>\n",
       "      <td>0.0</td>\n",
       "      <td>0.0</td>\n",
       "      <td>1.0</td>\n",
       "      <td>0.0</td>\n",
       "      <td>0.0</td>\n",
       "      <td>0.0</td>\n",
       "      <td>0.0</td>\n",
       "      <td>1.0</td>\n",
       "      <td>0</td>\n",
       "      <td>F/575/P</td>\n",
       "      <td>0</td>\n",
       "      <td>0</td>\n",
       "    </tr>\n",
       "    <tr>\n",
       "      <th>8302</th>\n",
       "      <td>28.0</td>\n",
       "      <td>0.000000</td>\n",
       "      <td>0.0</td>\n",
       "      <td>0.0</td>\n",
       "      <td>0.0</td>\n",
       "      <td>0.0</td>\n",
       "      <td>0.0</td>\n",
       "      <td>1.0</td>\n",
       "      <td>0.0</td>\n",
       "      <td>1.0</td>\n",
       "      <td>0.0</td>\n",
       "      <td>0.0</td>\n",
       "      <td>1</td>\n",
       "      <td>C/329/S</td>\n",
       "      <td>0</td>\n",
       "      <td>1</td>\n",
       "    </tr>\n",
       "    <tr>\n",
       "      <th>8177</th>\n",
       "      <td>20.0</td>\n",
       "      <td>222.822935</td>\n",
       "      <td>2.0</td>\n",
       "      <td>289.0</td>\n",
       "      <td>976.0</td>\n",
       "      <td>0.0</td>\n",
       "      <td>0.0</td>\n",
       "      <td>0.0</td>\n",
       "      <td>1.0</td>\n",
       "      <td>0.0</td>\n",
       "      <td>0.0</td>\n",
       "      <td>1.0</td>\n",
       "      <td>0</td>\n",
       "      <td>F/1800/P</td>\n",
       "      <td>0</td>\n",
       "      <td>1</td>\n",
       "    </tr>\n",
       "    <tr>\n",
       "      <th>500</th>\n",
       "      <td>36.0</td>\n",
       "      <td>0.000000</td>\n",
       "      <td>0.0</td>\n",
       "      <td>0.0</td>\n",
       "      <td>0.0</td>\n",
       "      <td>0.0</td>\n",
       "      <td>0.0</td>\n",
       "      <td>1.0</td>\n",
       "      <td>0.0</td>\n",
       "      <td>1.0</td>\n",
       "      <td>0.0</td>\n",
       "      <td>0.0</td>\n",
       "      <td>1</td>\n",
       "      <td>C/18/P</td>\n",
       "      <td>0</td>\n",
       "      <td>1</td>\n",
       "    </tr>\n",
       "  </tbody>\n",
       "</table>\n",
       "</div>"
      ],
      "text/plain": [
       "       Age  RoomService  FoodCourt  ShoppingMall    Spa  VRDeck  \\\n",
       "2333  28.0     0.000000       55.0           0.0  656.0     0.0   \n",
       "2589  17.0     0.000000     1195.0          31.0    0.0     0.0   \n",
       "8302  28.0     0.000000        0.0           0.0    0.0     0.0   \n",
       "8177  20.0   222.822935        2.0         289.0  976.0     0.0   \n",
       "500   36.0     0.000000        0.0           0.0    0.0     0.0   \n",
       "\n",
       "      HomePlanet_Earth  HomePlanet_Europa  HomePlanet_Mars  \\\n",
       "2333               1.0                0.0              0.0   \n",
       "2589               1.0                0.0              0.0   \n",
       "8302               0.0                1.0              0.0   \n",
       "8177               0.0                0.0              1.0   \n",
       "500                0.0                1.0              0.0   \n",
       "\n",
       "      Destination_55 Cancri e  Destination_PSO J318.5-22  \\\n",
       "2333                      0.0                        0.0   \n",
       "2589                      0.0                        0.0   \n",
       "8302                      1.0                        0.0   \n",
       "8177                      0.0                        0.0   \n",
       "500                       1.0                        0.0   \n",
       "\n",
       "      Destination_TRAPPIST-1e  CryoSleep     Cabin  VIP  Transported  \n",
       "2333                      1.0          0    B/82/S    0            0  \n",
       "2589                      1.0          0   F/575/P    0            0  \n",
       "8302                      0.0          1   C/329/S    0            1  \n",
       "8177                      1.0          0  F/1800/P    0            1  \n",
       "500                       0.0          1    C/18/P    0            1  "
      ]
     },
     "execution_count": 1138,
     "metadata": {},
     "output_type": "execute_result"
    }
   ],
   "source": [
    "test_data['CryoSleep'] = test_data['CryoSleep'].astype('int')\n",
    "test_data['Transported'] = test_data['Transported'].astype('int')\n",
    "test_data['VIP'] = test_data['VIP'].astype('int')\n",
    "\n",
    "train_data['CryoSleep'] = train_data['CryoSleep'].astype('int')\n",
    "train_data['Transported'] = train_data['Transported'].astype('int')\n",
    "train_data['VIP'] = train_data['VIP'].astype('int')\n",
    "\n",
    "train_data.head()"
   ]
  },
  {
   "cell_type": "code",
   "execution_count": 1139,
   "metadata": {},
   "outputs": [
    {
     "data": {
      "text/html": [
       "<div>\n",
       "<style scoped>\n",
       "    .dataframe tbody tr th:only-of-type {\n",
       "        vertical-align: middle;\n",
       "    }\n",
       "\n",
       "    .dataframe tbody tr th {\n",
       "        vertical-align: top;\n",
       "    }\n",
       "\n",
       "    .dataframe thead th {\n",
       "        text-align: right;\n",
       "    }\n",
       "</style>\n",
       "<table border=\"1\" class=\"dataframe\">\n",
       "  <thead>\n",
       "    <tr style=\"text-align: right;\">\n",
       "      <th></th>\n",
       "      <th>Age</th>\n",
       "      <th>RoomService</th>\n",
       "      <th>FoodCourt</th>\n",
       "      <th>ShoppingMall</th>\n",
       "      <th>Spa</th>\n",
       "      <th>VRDeck</th>\n",
       "      <th>HomePlanet_Earth</th>\n",
       "      <th>HomePlanet_Europa</th>\n",
       "      <th>HomePlanet_Mars</th>\n",
       "      <th>Destination_55 Cancri e</th>\n",
       "      <th>Destination_PSO J318.5-22</th>\n",
       "      <th>Destination_TRAPPIST-1e</th>\n",
       "      <th>CryoSleep</th>\n",
       "      <th>VIP</th>\n",
       "      <th>Transported</th>\n",
       "      <th>Cabin</th>\n",
       "    </tr>\n",
       "  </thead>\n",
       "  <tbody>\n",
       "    <tr>\n",
       "      <th>2333</th>\n",
       "      <td>28.0</td>\n",
       "      <td>0.000000</td>\n",
       "      <td>55.0</td>\n",
       "      <td>0.0</td>\n",
       "      <td>656.0</td>\n",
       "      <td>0.0</td>\n",
       "      <td>1.0</td>\n",
       "      <td>0.0</td>\n",
       "      <td>0.0</td>\n",
       "      <td>0.0</td>\n",
       "      <td>0.0</td>\n",
       "      <td>1.0</td>\n",
       "      <td>0</td>\n",
       "      <td>0</td>\n",
       "      <td>0</td>\n",
       "      <td>165</td>\n",
       "    </tr>\n",
       "    <tr>\n",
       "      <th>2589</th>\n",
       "      <td>17.0</td>\n",
       "      <td>0.000000</td>\n",
       "      <td>1195.0</td>\n",
       "      <td>31.0</td>\n",
       "      <td>0.0</td>\n",
       "      <td>0.0</td>\n",
       "      <td>1.0</td>\n",
       "      <td>0.0</td>\n",
       "      <td>0.0</td>\n",
       "      <td>0.0</td>\n",
       "      <td>0.0</td>\n",
       "      <td>1.0</td>\n",
       "      <td>0</td>\n",
       "      <td>0</td>\n",
       "      <td>0</td>\n",
       "      <td>2</td>\n",
       "    </tr>\n",
       "    <tr>\n",
       "      <th>8302</th>\n",
       "      <td>28.0</td>\n",
       "      <td>0.000000</td>\n",
       "      <td>0.0</td>\n",
       "      <td>0.0</td>\n",
       "      <td>0.0</td>\n",
       "      <td>0.0</td>\n",
       "      <td>0.0</td>\n",
       "      <td>1.0</td>\n",
       "      <td>0.0</td>\n",
       "      <td>1.0</td>\n",
       "      <td>0.0</td>\n",
       "      <td>0.0</td>\n",
       "      <td>1</td>\n",
       "      <td>0</td>\n",
       "      <td>1</td>\n",
       "      <td>5</td>\n",
       "    </tr>\n",
       "    <tr>\n",
       "      <th>8177</th>\n",
       "      <td>20.0</td>\n",
       "      <td>222.822935</td>\n",
       "      <td>2.0</td>\n",
       "      <td>289.0</td>\n",
       "      <td>976.0</td>\n",
       "      <td>0.0</td>\n",
       "      <td>0.0</td>\n",
       "      <td>0.0</td>\n",
       "      <td>1.0</td>\n",
       "      <td>0.0</td>\n",
       "      <td>0.0</td>\n",
       "      <td>1.0</td>\n",
       "      <td>0</td>\n",
       "      <td>0</td>\n",
       "      <td>1</td>\n",
       "      <td>2</td>\n",
       "    </tr>\n",
       "    <tr>\n",
       "      <th>500</th>\n",
       "      <td>36.0</td>\n",
       "      <td>0.000000</td>\n",
       "      <td>0.0</td>\n",
       "      <td>0.0</td>\n",
       "      <td>0.0</td>\n",
       "      <td>0.0</td>\n",
       "      <td>0.0</td>\n",
       "      <td>1.0</td>\n",
       "      <td>0.0</td>\n",
       "      <td>1.0</td>\n",
       "      <td>0.0</td>\n",
       "      <td>0.0</td>\n",
       "      <td>1</td>\n",
       "      <td>0</td>\n",
       "      <td>1</td>\n",
       "      <td>4</td>\n",
       "    </tr>\n",
       "  </tbody>\n",
       "</table>\n",
       "</div>"
      ],
      "text/plain": [
       "       Age  RoomService  FoodCourt  ShoppingMall    Spa  VRDeck  \\\n",
       "2333  28.0     0.000000       55.0           0.0  656.0     0.0   \n",
       "2589  17.0     0.000000     1195.0          31.0    0.0     0.0   \n",
       "8302  28.0     0.000000        0.0           0.0    0.0     0.0   \n",
       "8177  20.0   222.822935        2.0         289.0  976.0     0.0   \n",
       "500   36.0     0.000000        0.0           0.0    0.0     0.0   \n",
       "\n",
       "      HomePlanet_Earth  HomePlanet_Europa  HomePlanet_Mars  \\\n",
       "2333               1.0                0.0              0.0   \n",
       "2589               1.0                0.0              0.0   \n",
       "8302               0.0                1.0              0.0   \n",
       "8177               0.0                0.0              1.0   \n",
       "500                0.0                1.0              0.0   \n",
       "\n",
       "      Destination_55 Cancri e  Destination_PSO J318.5-22  \\\n",
       "2333                      0.0                        0.0   \n",
       "2589                      0.0                        0.0   \n",
       "8302                      1.0                        0.0   \n",
       "8177                      0.0                        0.0   \n",
       "500                       1.0                        0.0   \n",
       "\n",
       "      Destination_TRAPPIST-1e  CryoSleep  VIP  Transported  Cabin  \n",
       "2333                      1.0          0    0            0    165  \n",
       "2589                      1.0          0    0            0      2  \n",
       "8302                      0.0          1    0            1      5  \n",
       "8177                      1.0          0    0            1      2  \n",
       "500                       0.0          1    0            1      4  "
      ]
     },
     "execution_count": 1139,
     "metadata": {},
     "output_type": "execute_result"
    }
   ],
   "source": [
    "from category_encoders.count import CountEncoder\n",
    "\n",
    "co_encoder = CountEncoder()\n",
    "\n",
    "cabin_train = train_data['Cabin']\n",
    "train_data.drop(columns=['Cabin'], inplace=True)\n",
    "cabin_train = pd.DataFrame(co_encoder.fit_transform(cabin_train), columns=['Cabin'], index=cabin_train.index)\n",
    "train_data = pd.concat([train_data, cabin_train], axis=1)\n",
    "\n",
    "cabin_test = test_data['Cabin']\n",
    "test_data.drop(columns=['Cabin'], inplace=True)\n",
    "cabin_test = pd.DataFrame(co_encoder.transform(cabin_test), columns=['Cabin'], index=cabin_test.index)\n",
    "test_data = pd.concat([test_data, cabin_test], axis=1)\n",
    "train_data.head()"
   ]
  },
  {
   "cell_type": "code",
   "execution_count": 1140,
   "metadata": {},
   "outputs": [
    {
     "data": {
      "text/html": [
       "<div>\n",
       "<style scoped>\n",
       "    .dataframe tbody tr th:only-of-type {\n",
       "        vertical-align: middle;\n",
       "    }\n",
       "\n",
       "    .dataframe tbody tr th {\n",
       "        vertical-align: top;\n",
       "    }\n",
       "\n",
       "    .dataframe thead th {\n",
       "        text-align: right;\n",
       "    }\n",
       "</style>\n",
       "<table border=\"1\" class=\"dataframe\">\n",
       "  <thead>\n",
       "    <tr style=\"text-align: right;\">\n",
       "      <th></th>\n",
       "      <th>Age</th>\n",
       "      <th>RoomService</th>\n",
       "      <th>FoodCourt</th>\n",
       "      <th>ShoppingMall</th>\n",
       "      <th>Spa</th>\n",
       "      <th>VRDeck</th>\n",
       "      <th>HomePlanet_Earth</th>\n",
       "      <th>HomePlanet_Europa</th>\n",
       "      <th>HomePlanet_Mars</th>\n",
       "      <th>Destination_55 Cancri e</th>\n",
       "      <th>Destination_PSO J318.5-22</th>\n",
       "      <th>Destination_TRAPPIST-1e</th>\n",
       "      <th>CryoSleep</th>\n",
       "      <th>VIP</th>\n",
       "      <th>Transported</th>\n",
       "      <th>Cabin</th>\n",
       "    </tr>\n",
       "  </thead>\n",
       "  <tbody>\n",
       "    <tr>\n",
       "      <th>304</th>\n",
       "      <td>19.0</td>\n",
       "      <td>417.0</td>\n",
       "      <td>349.0</td>\n",
       "      <td>634.0</td>\n",
       "      <td>3.000000</td>\n",
       "      <td>1057.0</td>\n",
       "      <td>0.0</td>\n",
       "      <td>0.0</td>\n",
       "      <td>1.0</td>\n",
       "      <td>0.0</td>\n",
       "      <td>0.0</td>\n",
       "      <td>1.0</td>\n",
       "      <td>0</td>\n",
       "      <td>0</td>\n",
       "      <td>1</td>\n",
       "      <td>2.0</td>\n",
       "    </tr>\n",
       "    <tr>\n",
       "      <th>2697</th>\n",
       "      <td>18.0</td>\n",
       "      <td>4.0</td>\n",
       "      <td>904.0</td>\n",
       "      <td>0.0</td>\n",
       "      <td>0.000000</td>\n",
       "      <td>1.0</td>\n",
       "      <td>1.0</td>\n",
       "      <td>0.0</td>\n",
       "      <td>0.0</td>\n",
       "      <td>0.0</td>\n",
       "      <td>0.0</td>\n",
       "      <td>1.0</td>\n",
       "      <td>0</td>\n",
       "      <td>0</td>\n",
       "      <td>0</td>\n",
       "      <td>0.0</td>\n",
       "    </tr>\n",
       "    <tr>\n",
       "      <th>8424</th>\n",
       "      <td>41.0</td>\n",
       "      <td>0.0</td>\n",
       "      <td>0.0</td>\n",
       "      <td>0.0</td>\n",
       "      <td>0.000000</td>\n",
       "      <td>0.0</td>\n",
       "      <td>1.0</td>\n",
       "      <td>0.0</td>\n",
       "      <td>0.0</td>\n",
       "      <td>0.0</td>\n",
       "      <td>0.0</td>\n",
       "      <td>1.0</td>\n",
       "      <td>1</td>\n",
       "      <td>0</td>\n",
       "      <td>0</td>\n",
       "      <td>0.0</td>\n",
       "    </tr>\n",
       "    <tr>\n",
       "      <th>1672</th>\n",
       "      <td>35.0</td>\n",
       "      <td>0.0</td>\n",
       "      <td>338.0</td>\n",
       "      <td>436.0</td>\n",
       "      <td>315.693842</td>\n",
       "      <td>0.0</td>\n",
       "      <td>1.0</td>\n",
       "      <td>0.0</td>\n",
       "      <td>0.0</td>\n",
       "      <td>0.0</td>\n",
       "      <td>0.0</td>\n",
       "      <td>1.0</td>\n",
       "      <td>0</td>\n",
       "      <td>0</td>\n",
       "      <td>1</td>\n",
       "      <td>0.0</td>\n",
       "    </tr>\n",
       "    <tr>\n",
       "      <th>8458</th>\n",
       "      <td>43.0</td>\n",
       "      <td>0.0</td>\n",
       "      <td>0.0</td>\n",
       "      <td>0.0</td>\n",
       "      <td>0.000000</td>\n",
       "      <td>0.0</td>\n",
       "      <td>0.0</td>\n",
       "      <td>1.0</td>\n",
       "      <td>0.0</td>\n",
       "      <td>0.0</td>\n",
       "      <td>0.0</td>\n",
       "      <td>1.0</td>\n",
       "      <td>1</td>\n",
       "      <td>0</td>\n",
       "      <td>1</td>\n",
       "      <td>4.0</td>\n",
       "    </tr>\n",
       "  </tbody>\n",
       "</table>\n",
       "</div>"
      ],
      "text/plain": [
       "       Age  RoomService  FoodCourt  ShoppingMall         Spa  VRDeck  \\\n",
       "304   19.0        417.0      349.0         634.0    3.000000  1057.0   \n",
       "2697  18.0          4.0      904.0           0.0    0.000000     1.0   \n",
       "8424  41.0          0.0        0.0           0.0    0.000000     0.0   \n",
       "1672  35.0          0.0      338.0         436.0  315.693842     0.0   \n",
       "8458  43.0          0.0        0.0           0.0    0.000000     0.0   \n",
       "\n",
       "      HomePlanet_Earth  HomePlanet_Europa  HomePlanet_Mars  \\\n",
       "304                0.0                0.0              1.0   \n",
       "2697               1.0                0.0              0.0   \n",
       "8424               1.0                0.0              0.0   \n",
       "1672               1.0                0.0              0.0   \n",
       "8458               0.0                1.0              0.0   \n",
       "\n",
       "      Destination_55 Cancri e  Destination_PSO J318.5-22  \\\n",
       "304                       0.0                        0.0   \n",
       "2697                      0.0                        0.0   \n",
       "8424                      0.0                        0.0   \n",
       "1672                      0.0                        0.0   \n",
       "8458                      0.0                        0.0   \n",
       "\n",
       "      Destination_TRAPPIST-1e  CryoSleep  VIP  Transported  Cabin  \n",
       "304                       1.0          0    0            1    2.0  \n",
       "2697                      1.0          0    0            0    0.0  \n",
       "8424                      1.0          1    0            0    0.0  \n",
       "1672                      1.0          0    0            1    0.0  \n",
       "8458                      1.0          1    0            1    4.0  "
      ]
     },
     "execution_count": 1140,
     "metadata": {},
     "output_type": "execute_result"
    }
   ],
   "source": [
    "test_data.head()"
   ]
  },
  {
   "cell_type": "markdown",
   "metadata": {},
   "source": [
    "##### In this part we had three columns to be encoded. HomePlanet, Destination and Cabin. For the first two we used one hot encodeing because each include just 3 categories and it seems that one hot encoding would be the best choice but for the last one since it includes many categories, we can not use this approach. So in my opinion count encoding would be the best appraoch.\n",
    "##### We also converted following columns to 0 and 1: (they were true and false)\n",
    "##### VIP, CryoSleep, Transported"
   ]
  },
  {
   "cell_type": "markdown",
   "metadata": {},
   "source": [
    "### 4) Dropping duplicate rows and outliers"
   ]
  },
  {
   "cell_type": "code",
   "execution_count": 1141,
   "metadata": {},
   "outputs": [],
   "source": [
    "def z_score_outlier(data):\n",
    "    drop_outliers = np.array([])\n",
    "    for column in data.columns:\n",
    "        if (not data[column].dtype == 'object'):\n",
    "            upper_bound = data[column].mean() + 3 * data[column].std()\n",
    "            lower_bound = data[column].mean() - 3 * data[column].std()\n",
    "            data = data.loc[(data[column] < upper_bound) & (data[column] > lower_bound)]\n",
    "\n",
    "    return data"
   ]
  },
  {
   "cell_type": "code",
   "execution_count": 1142,
   "metadata": {},
   "outputs": [],
   "source": [
    "def iqr_outlier(data):\n",
    "    drop_outliers = np.array([])\n",
    "    for column in data.columns:\n",
    "        if (not data[column].dtype == 'object'):\n",
    "            Q1 = data[column].quantile(0.25)\n",
    "            Q3 = data[column].quantile(0.75)\n",
    "            if Q1 == np.nan:\n",
    "                Q1 = 0\n",
    "            if Q3 == np.nan:\n",
    "                Q3 = 0\n",
    "            IQR = Q3 - Q1\n",
    "            upper_bound = Q3 + 1.5 * IQR\n",
    "            lower_bound = Q1 - 1.5 * IQR\n",
    "            data = data.loc[(data[column] <= upper_bound) & (data[column] >= lower_bound)]\n",
    "            print(data.shape)\n",
    "\n",
    "    return data"
   ]
  },
  {
   "cell_type": "code",
   "execution_count": 1143,
   "metadata": {},
   "outputs": [
    {
     "data": {
      "text/plain": [
       "(5467, 16)"
      ]
     },
     "execution_count": 1143,
     "metadata": {},
     "output_type": "execute_result"
    }
   ],
   "source": [
    "train_data = z_score_outlier(train_data)\n",
    "train_data.shape"
   ]
  },
  {
   "cell_type": "code",
   "execution_count": 1144,
   "metadata": {},
   "outputs": [
    {
     "data": {
      "text/plain": [
       "array([[<Axes: title={'center': 'Age'}>,\n",
       "        <Axes: title={'center': 'RoomService'}>,\n",
       "        <Axes: title={'center': 'FoodCourt'}>,\n",
       "        <Axes: title={'center': 'ShoppingMall'}>],\n",
       "       [<Axes: title={'center': 'Spa'}>,\n",
       "        <Axes: title={'center': 'VRDeck'}>,\n",
       "        <Axes: title={'center': 'HomePlanet_Earth'}>,\n",
       "        <Axes: title={'center': 'HomePlanet_Europa'}>],\n",
       "       [<Axes: title={'center': 'HomePlanet_Mars'}>,\n",
       "        <Axes: title={'center': 'Destination_55 Cancri e'}>,\n",
       "        <Axes: title={'center': 'Destination_PSO J318.5-22'}>,\n",
       "        <Axes: title={'center': 'Destination_TRAPPIST-1e'}>],\n",
       "       [<Axes: title={'center': 'CryoSleep'}>,\n",
       "        <Axes: title={'center': 'VIP'}>,\n",
       "        <Axes: title={'center': 'Transported'}>,\n",
       "        <Axes: title={'center': 'Cabin'}>]], dtype=object)"
      ]
     },
     "execution_count": 1144,
     "metadata": {},
     "output_type": "execute_result"
    },
    {
     "data": {
      "image/png": "[encoded data removed]",
      "text/plain": [
       "<Figure size 1080x576 with 16 Axes>"
      ]
     },
     "metadata": {
      "needs_background": "light"
     },
     "output_type": "display_data"
    }
   ],
   "source": [
    "train_data.hist(figsize=(15, 8))"
   ]
  },
  {
   "cell_type": "code",
   "execution_count": 1145,
   "metadata": {},
   "outputs": [
    {
     "data": {
      "text/plain": [
       "(4474, 16)"
      ]
     },
     "execution_count": 1145,
     "metadata": {},
     "output_type": "execute_result"
    }
   ],
   "source": [
    "train_data = train_data.drop_duplicates()\n",
    "train_data.shape"
   ]
  },
  {
   "cell_type": "code",
   "execution_count": 1146,
   "metadata": {},
   "outputs": [],
   "source": [
    "train_y = train_data.iloc[:, 14].to_numpy()\n",
    "train_x = train_data.drop(columns=['Transported'])\n",
    "\n",
    "test_y = test_data.iloc[:, 14].to_numpy()\n",
    "test_x = test_data.drop(columns=['Transported'])"
   ]
  },
  {
   "cell_type": "markdown",
   "metadata": {},
   "source": [
    "### 5) Normalization"
   ]
  },
  {
   "cell_type": "code",
   "execution_count": 1147,
   "metadata": {},
   "outputs": [],
   "source": [
    "from sklearn.preprocessing import StandardScaler\n",
    "\n",
    "st_scaler = StandardScaler()\n",
    "\n",
    "train_x = pd.DataFrame(st_scaler.fit_transform(train_x), columns=train_x.columns, index=train_x.index)\n",
    "test_x = pd.DataFrame(st_scaler.transform(test_x), columns=test_x.columns, index=test_x.index)"
   ]
  },
  {
   "cell_type": "code",
   "execution_count": 1148,
   "metadata": {},
   "outputs": [
    {
     "data": {
      "text/html": [
       "<div>\n",
       "<style scoped>\n",
       "    .dataframe tbody tr th:only-of-type {\n",
       "        vertical-align: middle;\n",
       "    }\n",
       "\n",
       "    .dataframe tbody tr th {\n",
       "        vertical-align: top;\n",
       "    }\n",
       "\n",
       "    .dataframe thead th {\n",
       "        text-align: right;\n",
       "    }\n",
       "</style>\n",
       "<table border=\"1\" class=\"dataframe\">\n",
       "  <thead>\n",
       "    <tr style=\"text-align: right;\">\n",
       "      <th></th>\n",
       "      <th>Age</th>\n",
       "      <th>RoomService</th>\n",
       "      <th>FoodCourt</th>\n",
       "      <th>ShoppingMall</th>\n",
       "      <th>Spa</th>\n",
       "      <th>VRDeck</th>\n",
       "      <th>HomePlanet_Earth</th>\n",
       "      <th>HomePlanet_Europa</th>\n",
       "      <th>HomePlanet_Mars</th>\n",
       "      <th>Destination_55 Cancri e</th>\n",
       "      <th>Destination_PSO J318.5-22</th>\n",
       "      <th>Destination_TRAPPIST-1e</th>\n",
       "      <th>CryoSleep</th>\n",
       "      <th>VIP</th>\n",
       "      <th>Cabin</th>\n",
       "    </tr>\n",
       "  </thead>\n",
       "  <tbody>\n",
       "    <tr>\n",
       "      <th>2589</th>\n",
       "      <td>-0.849856</td>\n",
       "      <td>-0.493378</td>\n",
       "      <td>1.127733</td>\n",
       "      <td>-0.367697</td>\n",
       "      <td>-0.424198</td>\n",
       "      <td>-0.421398</td>\n",
       "      <td>0.859157</td>\n",
       "      <td>-0.486410</td>\n",
       "      <td>-0.504954</td>\n",
       "      <td>-0.51435</td>\n",
       "      <td>0.0</td>\n",
       "      <td>0.557902</td>\n",
       "      <td>-0.578211</td>\n",
       "      <td>0.0</td>\n",
       "      <td>0.294948</td>\n",
       "    </tr>\n",
       "    <tr>\n",
       "      <th>8302</th>\n",
       "      <td>-0.082132</td>\n",
       "      <td>-0.493378</td>\n",
       "      <td>-0.398433</td>\n",
       "      <td>-0.461517</td>\n",
       "      <td>-0.424198</td>\n",
       "      <td>-0.421398</td>\n",
       "      <td>-1.163932</td>\n",
       "      <td>2.055878</td>\n",
       "      <td>-0.504954</td>\n",
       "      <td>1.94420</td>\n",
       "      <td>0.0</td>\n",
       "      <td>-1.792430</td>\n",
       "      <td>1.729474</td>\n",
       "      <td>0.0</td>\n",
       "      <td>2.816467</td>\n",
       "    </tr>\n",
       "    <tr>\n",
       "      <th>8177</th>\n",
       "      <td>-0.640477</td>\n",
       "      <td>0.052623</td>\n",
       "      <td>-0.395878</td>\n",
       "      <td>0.413127</td>\n",
       "      <td>1.686609</td>\n",
       "      <td>-0.421398</td>\n",
       "      <td>-1.163932</td>\n",
       "      <td>-0.486410</td>\n",
       "      <td>1.980377</td>\n",
       "      <td>-0.51435</td>\n",
       "      <td>0.0</td>\n",
       "      <td>0.557902</td>\n",
       "      <td>-0.578211</td>\n",
       "      <td>0.0</td>\n",
       "      <td>0.294948</td>\n",
       "    </tr>\n",
       "    <tr>\n",
       "      <th>500</th>\n",
       "      <td>0.476213</td>\n",
       "      <td>-0.493378</td>\n",
       "      <td>-0.398433</td>\n",
       "      <td>-0.461517</td>\n",
       "      <td>-0.424198</td>\n",
       "      <td>-0.421398</td>\n",
       "      <td>-1.163932</td>\n",
       "      <td>2.055878</td>\n",
       "      <td>-0.504954</td>\n",
       "      <td>1.94420</td>\n",
       "      <td>0.0</td>\n",
       "      <td>-1.792430</td>\n",
       "      <td>1.729474</td>\n",
       "      <td>0.0</td>\n",
       "      <td>1.975961</td>\n",
       "    </tr>\n",
       "    <tr>\n",
       "      <th>7203</th>\n",
       "      <td>0.546006</td>\n",
       "      <td>1.957003</td>\n",
       "      <td>-0.398433</td>\n",
       "      <td>-0.219401</td>\n",
       "      <td>-0.337690</td>\n",
       "      <td>-0.421398</td>\n",
       "      <td>-1.163932</td>\n",
       "      <td>-0.486410</td>\n",
       "      <td>1.980377</td>\n",
       "      <td>-0.51435</td>\n",
       "      <td>0.0</td>\n",
       "      <td>0.557902</td>\n",
       "      <td>-0.578211</td>\n",
       "      <td>0.0</td>\n",
       "      <td>-0.545559</td>\n",
       "    </tr>\n",
       "    <tr>\n",
       "      <th>...</th>\n",
       "      <td>...</td>\n",
       "      <td>...</td>\n",
       "      <td>...</td>\n",
       "      <td>...</td>\n",
       "      <td>...</td>\n",
       "      <td>...</td>\n",
       "      <td>...</td>\n",
       "      <td>...</td>\n",
       "      <td>...</td>\n",
       "      <td>...</td>\n",
       "      <td>...</td>\n",
       "      <td>...</td>\n",
       "      <td>...</td>\n",
       "      <td>...</td>\n",
       "      <td>...</td>\n",
       "    </tr>\n",
       "    <tr>\n",
       "      <th>4426</th>\n",
       "      <td>0.057454</td>\n",
       "      <td>1.511033</td>\n",
       "      <td>-0.342239</td>\n",
       "      <td>-0.455464</td>\n",
       "      <td>5.968779</td>\n",
       "      <td>4.849664</td>\n",
       "      <td>-1.163932</td>\n",
       "      <td>2.055878</td>\n",
       "      <td>-0.504954</td>\n",
       "      <td>1.94420</td>\n",
       "      <td>0.0</td>\n",
       "      <td>-1.792430</td>\n",
       "      <td>-0.578211</td>\n",
       "      <td>0.0</td>\n",
       "      <td>-0.545559</td>\n",
       "    </tr>\n",
       "    <tr>\n",
       "      <th>6265</th>\n",
       "      <td>-0.221718</td>\n",
       "      <td>-0.493378</td>\n",
       "      <td>-0.398433</td>\n",
       "      <td>-0.461517</td>\n",
       "      <td>-0.424198</td>\n",
       "      <td>-0.421398</td>\n",
       "      <td>-1.163932</td>\n",
       "      <td>2.055878</td>\n",
       "      <td>-0.504954</td>\n",
       "      <td>-0.51435</td>\n",
       "      <td>0.0</td>\n",
       "      <td>0.557902</td>\n",
       "      <td>-0.578211</td>\n",
       "      <td>0.0</td>\n",
       "      <td>-0.545559</td>\n",
       "    </tr>\n",
       "    <tr>\n",
       "      <th>5734</th>\n",
       "      <td>-0.780063</td>\n",
       "      <td>-0.459073</td>\n",
       "      <td>-0.395878</td>\n",
       "      <td>-0.025708</td>\n",
       "      <td>0.895056</td>\n",
       "      <td>-0.421398</td>\n",
       "      <td>0.859157</td>\n",
       "      <td>-0.486410</td>\n",
       "      <td>-0.504954</td>\n",
       "      <td>-0.51435</td>\n",
       "      <td>0.0</td>\n",
       "      <td>0.557902</td>\n",
       "      <td>-0.578211</td>\n",
       "      <td>0.0</td>\n",
       "      <td>-0.545559</td>\n",
       "    </tr>\n",
       "    <tr>\n",
       "      <th>5191</th>\n",
       "      <td>1.453316</td>\n",
       "      <td>1.197384</td>\n",
       "      <td>-0.398433</td>\n",
       "      <td>-0.370724</td>\n",
       "      <td>1.223789</td>\n",
       "      <td>0.554809</td>\n",
       "      <td>-1.163932</td>\n",
       "      <td>-0.486410</td>\n",
       "      <td>1.980377</td>\n",
       "      <td>-0.51435</td>\n",
       "      <td>0.0</td>\n",
       "      <td>0.557902</td>\n",
       "      <td>-0.578211</td>\n",
       "      <td>0.0</td>\n",
       "      <td>-0.545559</td>\n",
       "    </tr>\n",
       "    <tr>\n",
       "      <th>860</th>\n",
       "      <td>0.336626</td>\n",
       "      <td>0.435316</td>\n",
       "      <td>-0.398433</td>\n",
       "      <td>4.459495</td>\n",
       "      <td>-0.424198</td>\n",
       "      <td>-0.421398</td>\n",
       "      <td>-1.163932</td>\n",
       "      <td>-0.486410</td>\n",
       "      <td>1.980377</td>\n",
       "      <td>-0.51435</td>\n",
       "      <td>0.0</td>\n",
       "      <td>0.557902</td>\n",
       "      <td>-0.578211</td>\n",
       "      <td>0.0</td>\n",
       "      <td>0.294948</td>\n",
       "    </tr>\n",
       "  </tbody>\n",
       "</table>\n",
       "<p>4474 rows × 15 columns</p>\n",
       "</div>"
      ],
      "text/plain": [
       "           Age  RoomService  FoodCourt  ShoppingMall       Spa    VRDeck  \\\n",
       "2589 -0.849856    -0.493378   1.127733     -0.367697 -0.424198 -0.421398   \n",
       "8302 -0.082132    -0.493378  -0.398433     -0.461517 -0.424198 -0.421398   \n",
       "8177 -0.640477     0.052623  -0.395878      0.413127  1.686609 -0.421398   \n",
       "500   0.476213    -0.493378  -0.398433     -0.461517 -0.424198 -0.421398   \n",
       "7203  0.546006     1.957003  -0.398433     -0.219401 -0.337690 -0.421398   \n",
       "...        ...          ...        ...           ...       ...       ...   \n",
       "4426  0.057454     1.511033  -0.342239     -0.455464  5.968779  4.849664   \n",
       "6265 -0.221718    -0.493378  -0.398433     -0.461517 -0.424198 -0.421398   \n",
       "5734 -0.780063    -0.459073  -0.395878     -0.025708  0.895056 -0.421398   \n",
       "5191  1.453316     1.197384  -0.398433     -0.370724  1.223789  0.554809   \n",
       "860   0.336626     0.435316  -0.398433      4.459495 -0.424198 -0.421398   \n",
       "\n",
       "      HomePlanet_Earth  HomePlanet_Europa  HomePlanet_Mars  \\\n",
       "2589          0.859157          -0.486410        -0.504954   \n",
       "8302         -1.163932           2.055878        -0.504954   \n",
       "8177         -1.163932          -0.486410         1.980377   \n",
       "500          -1.163932           2.055878        -0.504954   \n",
       "7203         -1.163932          -0.486410         1.980377   \n",
       "...                ...                ...              ...   \n",
       "4426         -1.163932           2.055878        -0.504954   \n",
       "6265         -1.163932           2.055878        -0.504954   \n",
       "5734          0.859157          -0.486410        -0.504954   \n",
       "5191         -1.163932          -0.486410         1.980377   \n",
       "860          -1.163932          -0.486410         1.980377   \n",
       "\n",
       "      Destination_55 Cancri e  Destination_PSO J318.5-22  \\\n",
       "2589                 -0.51435                        0.0   \n",
       "8302                  1.94420                        0.0   \n",
       "8177                 -0.51435                        0.0   \n",
       "500                   1.94420                        0.0   \n",
       "7203                 -0.51435                        0.0   \n",
       "...                       ...                        ...   \n",
       "4426                  1.94420                        0.0   \n",
       "6265                 -0.51435                        0.0   \n",
       "5734                 -0.51435                        0.0   \n",
       "5191                 -0.51435                        0.0   \n",
       "860                  -0.51435                        0.0   \n",
       "\n",
       "      Destination_TRAPPIST-1e  CryoSleep  VIP     Cabin  \n",
       "2589                 0.557902  -0.578211  0.0  0.294948  \n",
       "8302                -1.792430   1.729474  0.0  2.816467  \n",
       "8177                 0.557902  -0.578211  0.0  0.294948  \n",
       "500                 -1.792430   1.729474  0.0  1.975961  \n",
       "7203                 0.557902  -0.578211  0.0 -0.545559  \n",
       "...                       ...        ...  ...       ...  \n",
       "4426                -1.792430  -0.578211  0.0 -0.545559  \n",
       "6265                 0.557902  -0.578211  0.0 -0.545559  \n",
       "5734                 0.557902  -0.578211  0.0 -0.545559  \n",
       "5191                 0.557902  -0.578211  0.0 -0.545559  \n",
       "860                  0.557902  -0.578211  0.0  0.294948  \n",
       "\n",
       "[4474 rows x 15 columns]"
      ]
     },
     "execution_count": 1148,
     "metadata": {},
     "output_type": "execute_result"
    }
   ],
   "source": [
    "train_x"
   ]
  },
  {
   "cell_type": "markdown",
   "metadata": {},
   "source": [
    "### 6) Feature Selection"
   ]
  },
  {
   "cell_type": "code",
   "execution_count": 1149,
   "metadata": {},
   "outputs": [],
   "source": [
    "from sklearn.discriminant_analysis import LinearDiscriminantAnalysis\n",
    "from sklearn.feature_selection import SequentialFeatureSelector\n",
    "from sklearn.model_selection import cross_validate\n",
    "from sklearn.svm import SVC\n",
    "\n",
    "LDA = LinearDiscriminantAnalysis(solver='lsqr')\n",
    "k_element_scorse = []\n",
    "\n",
    "for i in range(train_x.shape[1] - 1):\n",
    "    forward_selector = SequentialFeatureSelector(estimator=LDA, n_features_to_select=i+1, direction='forward')\n",
    "    forward_selector.fit(train_x, train_y)\n",
    "    temp_selected = forward_selector.transform(train_x)\n",
    "    scores = cross_validate(LDA, temp_selected, train_y, scoring=['f1', 'accuracy'])\n",
    "    k_element_scorse.append(scores['test_f1'].mean())\n",
    "\n",
    "scores = cross_validate(LDA, train_x, train_y, scoring=['f1', 'accuracy'])\n",
    "k_element_scorse.append(scores['test_f1'].mean())\n",
    "\n",
    "max_value = max(k_element_scorse)\n",
    "max_indices = [i for i, x in enumerate(k_element_scorse) if x == max_value][0]\n",
    "best_number = max_indices + 1"
   ]
  },
  {
   "cell_type": "code",
   "execution_count": 1150,
   "metadata": {},
   "outputs": [
    {
     "name": "stdout",
     "output_type": "stream",
     "text": [
      "14\n"
     ]
    }
   ],
   "source": [
    "print(best_number)"
   ]
  },
  {
   "cell_type": "code",
   "execution_count": 1151,
   "metadata": {},
   "outputs": [
    {
     "data": {
      "text/html": [
       "<style>#sk-container-id-16 {color: black;}#sk-container-id-16 pre{padding: 0;}#sk-container-id-16 div.sk-toggleable {background-color: white;}#sk-container-id-16 label.sk-toggleable__label {cursor: pointer;display: block;width: 100%;margin-bottom: 0;padding: 0.3em;box-sizing: border-box;text-align: center;}#sk-container-id-16 label.sk-toggleable__label-arrow:before {content: \"▸\";float: left;margin-right: 0.25em;color: #696969;}#sk-container-id-16 label.sk-toggleable__label-arrow:hover:before {color: black;}#sk-container-id-16 div.sk-estimator:hover label.sk-toggleable__label-arrow:before {color: black;}#sk-container-id-16 div.sk-toggleable__content {max-height: 0;max-width: 0;overflow: hidden;text-align: left;background-color: #f0f8ff;}#sk-container-id-16 div.sk-toggleable__content pre {margin: 0.2em;color: black;border-radius: 0.25em;background-color: #f0f8ff;}#sk-container-id-16 input.sk-toggleable__control:checked~div.sk-toggleable__content {max-height: 200px;max-width: 100%;overflow: auto;}#sk-container-id-16 input.sk-toggleable__control:checked~label.sk-toggleable__label-arrow:before {content: \"▾\";}#sk-container-id-16 div.sk-estimator input.sk-toggleable__control:checked~label.sk-toggleable__label {background-color: #d4ebff;}#sk-container-id-16 div.sk-label input.sk-toggleable__control:checked~label.sk-toggleable__label {background-color: #d4ebff;}#sk-container-id-16 input.sk-hidden--visually {border: 0;clip: rect(1px 1px 1px 1px);clip: rect(1px, 1px, 1px, 1px);height: 1px;margin: -1px;overflow: hidden;padding: 0;position: absolute;width: 1px;}#sk-container-id-16 div.sk-estimator {font-family: monospace;background-color: #f0f8ff;border: 1px dotted black;border-radius: 0.25em;box-sizing: border-box;margin-bottom: 0.5em;}#sk-container-id-16 div.sk-estimator:hover {background-color: #d4ebff;}#sk-container-id-16 div.sk-parallel-item::after {content: \"\";width: 100%;border-bottom: 1px solid gray;flex-grow: 1;}#sk-container-id-16 div.sk-label:hover label.sk-toggleable__label {background-color: #d4ebff;}#sk-container-id-16 div.sk-serial::before {content: \"\";position: absolute;border-left: 1px solid gray;box-sizing: border-box;top: 0;bottom: 0;left: 50%;z-index: 0;}#sk-container-id-16 div.sk-serial {display: flex;flex-direction: column;align-items: center;background-color: white;padding-right: 0.2em;padding-left: 0.2em;position: relative;}#sk-container-id-16 div.sk-item {position: relative;z-index: 1;}#sk-container-id-16 div.sk-parallel {display: flex;align-items: stretch;justify-content: center;background-color: white;position: relative;}#sk-container-id-16 div.sk-item::before, #sk-container-id-16 div.sk-parallel-item::before {content: \"\";position: absolute;border-left: 1px solid gray;box-sizing: border-box;top: 0;bottom: 0;left: 50%;z-index: -1;}#sk-container-id-16 div.sk-parallel-item {display: flex;flex-direction: column;z-index: 1;position: relative;background-color: white;}#sk-container-id-16 div.sk-parallel-item:first-child::after {align-self: flex-end;width: 50%;}#sk-container-id-16 div.sk-parallel-item:last-child::after {align-self: flex-start;width: 50%;}#sk-container-id-16 div.sk-parallel-item:only-child::after {width: 0;}#sk-container-id-16 div.sk-dashed-wrapped {border: 1px dashed gray;margin: 0 0.4em 0.5em 0.4em;box-sizing: border-box;padding-bottom: 0.4em;background-color: white;}#sk-container-id-16 div.sk-label label {font-family: monospace;font-weight: bold;display: inline-block;line-height: 1.2em;}#sk-container-id-16 div.sk-label-container {text-align: center;}#sk-container-id-16 div.sk-container {/* jupyter's `normalize.less` sets `[hidden] { display: none; }` but bootstrap.min.css set `[hidden] { display: none !important; }` so we also need the `!important` here to be able to override the default hidden behavior on the sphinx rendered scikit-learn.org. See: https://github.com/scikit-learn/scikit-learn/issues/21755 */display: inline-block !important;position: relative;}#sk-container-id-16 div.sk-text-repr-fallback {display: none;}</style><div id=\"sk-container-id-16\" class=\"sk-top-container\"><div class=\"sk-text-repr-fallback\"><pre>SequentialFeatureSelector(estimator=LinearDiscriminantAnalysis(solver=&#x27;lsqr&#x27;),\n",
       "                          n_features_to_select=14)</pre><b>In a Jupyter environment, please rerun this cell to show the HTML representation or trust the notebook. <br />On GitHub, the HTML representation is unable to render, please try loading this page with nbviewer.org.</b></div><div class=\"sk-container\" hidden><div class=\"sk-item sk-dashed-wrapped\"><div class=\"sk-label-container\"><div class=\"sk-label sk-toggleable\"><input class=\"sk-toggleable__control sk-hidden--visually\" id=\"sk-estimator-id-34\" type=\"checkbox\" ><label for=\"sk-estimator-id-34\" class=\"sk-toggleable__label sk-toggleable__label-arrow\">SequentialFeatureSelector</label><div class=\"sk-toggleable__content\"><pre>SequentialFeatureSelector(estimator=LinearDiscriminantAnalysis(solver=&#x27;lsqr&#x27;),\n",
       "                          n_features_to_select=14)</pre></div></div></div><div class=\"sk-parallel\"><div class=\"sk-parallel-item\"><div class=\"sk-item\"><div class=\"sk-label-container\"><div class=\"sk-label sk-toggleable\"><input class=\"sk-toggleable__control sk-hidden--visually\" id=\"sk-estimator-id-35\" type=\"checkbox\" ><label for=\"sk-estimator-id-35\" class=\"sk-toggleable__label sk-toggleable__label-arrow\">estimator: LinearDiscriminantAnalysis</label><div class=\"sk-toggleable__content\"><pre>LinearDiscriminantAnalysis(solver=&#x27;lsqr&#x27;)</pre></div></div></div><div class=\"sk-serial\"><div class=\"sk-item\"><div class=\"sk-estimator sk-toggleable\"><input class=\"sk-toggleable__control sk-hidden--visually\" id=\"sk-estimator-id-36\" type=\"checkbox\" ><label for=\"sk-estimator-id-36\" class=\"sk-toggleable__label sk-toggleable__label-arrow\">LinearDiscriminantAnalysis</label><div class=\"sk-toggleable__content\"><pre>LinearDiscriminantAnalysis(solver=&#x27;lsqr&#x27;)</pre></div></div></div></div></div></div></div></div></div></div>"
      ],
      "text/plain": [
       "SequentialFeatureSelector(estimator=LinearDiscriminantAnalysis(solver='lsqr'),\n",
       "                          n_features_to_select=14)"
      ]
     },
     "execution_count": 1151,
     "metadata": {},
     "output_type": "execute_result"
    }
   ],
   "source": [
    "best_selector = SequentialFeatureSelector(estimator=LDA, n_features_to_select=best_number, direction='forward')\n",
    "best_selector.fit(train_x, train_y)"
   ]
  },
  {
   "cell_type": "code",
   "execution_count": 1152,
   "metadata": {},
   "outputs": [
    {
     "data": {
      "text/plain": [
       "array([ True,  True,  True,  True,  True,  True, False,  True,  True,\n",
       "        True,  True,  True,  True,  True,  True])"
      ]
     },
     "execution_count": 1152,
     "metadata": {},
     "output_type": "execute_result"
    }
   ],
   "source": [
    "best_selector.get_support()"
   ]
  },
  {
   "cell_type": "code",
   "execution_count": 1153,
   "metadata": {},
   "outputs": [],
   "source": [
    "train_x_selected = best_selector.transform(train_x)\n",
    "test_x_selected = best_selector.transform(test_x)"
   ]
  },
  {
   "cell_type": "markdown",
   "metadata": {},
   "source": [
    "##### The goal in this part of the work was to select the subset of features that would likely lead to the best results. To accomplish this, we have used the scikit-learn (sklearn) sequential feature selector. This is a tool that can select the best k-subset of features, where k is a specified number.\n",
    "##### The we used a forward selection strategy with this feature selector. This means we started with an empty set of features, and iteratively added the feature that provided the greatest improvement to the model's performance.\n",
    "##### After running the feature selector, we had the best subset of features for each possible value of k. Then we compared the performance of models built using these different feature subsets, evaluating them based on the F1-score metric.\n",
    "##### In addition to the sequential feature selector, we also used Linear Discriminant Analysis (LDA) as another approach for feature selection. LDA is a technique that can identify the linear combinations of features that best separate the classes in the data.\n",
    "##### So in summary, we employed forward feature selection using Linear Discriminant Analysis as estimator. We then evaluated the performance of models built using the selected feature subsets to determine the optimal set of features to use.\n",
    "##### The goal was to identify the smallest subset of features that would still enable the model to achieve strong predictive performance, which is an important step in developing an efficient and effective machine learning solution."
   ]
  },
  {
   "cell_type": "markdown",
   "metadata": {},
   "source": [
    "# Model Training"
   ]
  },
  {
   "cell_type": "code",
   "execution_count": 1154,
   "metadata": {},
   "outputs": [],
   "source": [
    "from sklearn.metrics import f1_score, precision_score, accuracy_score, confusion_matrix, roc_curve, ConfusionMatrixDisplay, RocCurveDisplay, auc\n",
    "\n",
    "def model_train_test_evaluating(x_train, y_train, x_test, y_test, model):\n",
    "    model.fit(x_train, y_train)\n",
    "    y_train_pred = model.predict(x_train)\n",
    "    y_test_pred = model.predict(x_test)\n",
    "\n",
    "    train_accuracy = accuracy_score(y_train, y_train_pred)\n",
    "    test_accuracy = accuracy_score(y_test, y_test_pred)\n",
    "    f1_train = f1_score(y_train, y_train_pred)\n",
    "    f1_test = f1_score(y_test, y_test_pred) \n",
    "\n",
    "    print('train_data report:')\n",
    "    cm = confusion_matrix(y_train, y_train_pred, labels=model.classes_)\n",
    "    disp = ConfusionMatrixDisplay(confusion_matrix=cm, display_labels=model.classes_)\n",
    "    fpr, tpr, thresholds = roc_curve(y_train, y_train_pred)\n",
    "    roc_auc = auc(fpr, tpr)\n",
    "    roc_display = RocCurveDisplay(fpr=fpr, tpr=tpr, roc_auc=roc_auc, estimator_name='example estimator')\n",
    "    fig, (ax1, ax2) = plt.subplots(1, 2, figsize=(12, 5))\n",
    "    ax1.set_title('Confusion Matrix')\n",
    "    disp.plot(ax=ax1)\n",
    "    ax2.set_title('ROC Curve')\n",
    "    roc_display.plot(ax=ax2)\n",
    "    plt.subplots_adjust(wspace=0.5)\n",
    "    plt.show()\n",
    "    \n",
    "    print('Acuuracy: ', end='')\n",
    "    print(train_accuracy)\n",
    "    print('F1_score: ', end='')\n",
    "    print(f1_train)\n",
    "\n",
    "    print('test_data report:')\n",
    "    cm = confusion_matrix(y_test, y_test_pred, labels=model.classes_)\n",
    "    disp = ConfusionMatrixDisplay(confusion_matrix=cm, display_labels=model.classes_)\n",
    "    fpr, tpr, thresholds = roc_curve(y_test, y_test_pred)\n",
    "    roc_auc = auc(fpr, tpr)\n",
    "    roc_display = RocCurveDisplay(fpr=fpr, tpr=tpr, roc_auc=roc_auc, estimator_name='example estimator')\n",
    "    fig, (ax1, ax2) = plt.subplots(1, 2, figsize=(12, 5))\n",
    "    ax1.set_title('Confusion Matrix')\n",
    "    disp.plot(ax=ax1)\n",
    "    ax2.set_title('ROC Curve')\n",
    "    roc_display.plot(ax=ax2)\n",
    "    plt.subplots_adjust(wspace=0.5)\n",
    "    plt.show()\n",
    "\n",
    "    print('Acuuracy: ', end='')\n",
    "    print(test_accuracy)\n",
    "    print('F1_score: ', end='')\n",
    "    print(f1_test)"
   ]
  },
  {
   "cell_type": "code",
   "execution_count": 1155,
   "metadata": {},
   "outputs": [
    {
     "name": "stdout",
     "output_type": "stream",
     "text": [
      "mean f1_score: 0.7194243566783208\n",
      "mean accuracy: 0.7628532863409696\n"
     ]
    }
   ],
   "source": [
    "lda = LinearDiscriminantAnalysis(solver='lsqr')\n",
    "scores = cross_validate(lda, train_x, train_y, scoring=['f1', 'accuracy'])\n",
    "print(\"mean f1_score: \", end='')\n",
    "print(scores['test_f1'].mean())\n",
    "print(\"mean accuracy: \", end='')\n",
    "print(scores['test_accuracy'].mean())"
   ]
  },
  {
   "cell_type": "code",
   "execution_count": 1156,
   "metadata": {},
   "outputs": [
    {
     "name": "stdout",
     "output_type": "stream",
     "text": [
      "train_data report:\n"
     ]
    },
    {
     "data": {
      "image/png": "[encoded data removed]",
      "text/plain": [
       "<Figure size 864x360 with 3 Axes>"
      ]
     },
     "metadata": {
      "needs_background": "light"
     },
     "output_type": "display_data"
    },
    {
     "name": "stdout",
     "output_type": "stream",
     "text": [
      "Acuuracy: 0.7659812248547161\n",
      "F1_score: 0.7233817701453104\n",
      "test_data report:\n"
     ]
    },
    {
     "data": {
      "image/png": "[encoded data removed]",
      "text/plain": [
       "<Figure size 864x360 with 3 Axes>"
      ]
     },
     "metadata": {
      "needs_background": "light"
     },
     "output_type": "display_data"
    },
    {
     "name": "stdout",
     "output_type": "stream",
     "text": [
      "Acuuracy: 0.7596319723979299\n",
      "F1_score: 0.7614155251141553\n"
     ]
    }
   ],
   "source": [
    "model_train_test_evaluating(train_x, train_y, test_x, test_y, lda)"
   ]
  },
  {
   "cell_type": "markdown",
   "metadata": {},
   "source": [
    "##### In this part of the analysis, Linear Discriminant Analysis was trained and evaluated. The following was done: the models were first evaluated using cross-validation techniques, which involves partitioning the available data into multiple subsets, using a portion of the data for training the model and the remaining portion for testing, repeating this process multiple times, and averaging the results to obtain a reliable estimate of the model's performance. During the cross-validation process, the accuracy and F1-score of each model were estimated, with the accuracy measuring the overall proportion of correct predictions made by the model, and the F1-score being a combination of precision and recall, providing a more balanced assessment of the model's performance, especially when dealing with imbalanced datasets. After evaluating the models using cross-validation, the trained models were then tested on a separate test dataset that was not used during the training or cross-validation process, in order to assess the generalization capability of the models and ensure that the performance estimates obtained from cross-validation are reliable. Finally, the results obtained from testing the models on the test data were compared to the performance estimates derived from the cross-validation process, to validate the accuracy of the cross-validation results and ensure that the models are not overfitting to the training data.\n",
    "\n",
    "##### In the below you can see the results:\n",
    "1. Estimated: <br>\n",
    "F1 = 0.69 <br>\n",
    "Accuracy = 0.75 <br>\n",
    "2. Test: <br>\n",
    "F1 = 0.75 <br>\n",
    "Accuracy = 0.75\n",
    "\n",
    "##### As it is clear the estimated values are close to the results we have got on test data."
   ]
  },
  {
   "cell_type": "markdown",
   "metadata": {},
   "source": [
    "# Train Model without preprocessing"
   ]
  },
  {
   "cell_type": "code",
   "execution_count": 1157,
   "metadata": {},
   "outputs": [
    {
     "data": {
      "text/html": [
       "<div>\n",
       "<style scoped>\n",
       "    .dataframe tbody tr th:only-of-type {\n",
       "        vertical-align: middle;\n",
       "    }\n",
       "\n",
       "    .dataframe tbody tr th {\n",
       "        vertical-align: top;\n",
       "    }\n",
       "\n",
       "    .dataframe thead th {\n",
       "        text-align: right;\n",
       "    }\n",
       "</style>\n",
       "<table border=\"1\" class=\"dataframe\">\n",
       "  <thead>\n",
       "    <tr style=\"text-align: right;\">\n",
       "      <th></th>\n",
       "      <th>PassengerId</th>\n",
       "      <th>HomePlanet</th>\n",
       "      <th>CryoSleep</th>\n",
       "      <th>Cabin</th>\n",
       "      <th>Destination</th>\n",
       "      <th>Age</th>\n",
       "      <th>VIP</th>\n",
       "      <th>RoomService</th>\n",
       "      <th>FoodCourt</th>\n",
       "      <th>ShoppingMall</th>\n",
       "      <th>Spa</th>\n",
       "      <th>VRDeck</th>\n",
       "      <th>Name</th>\n",
       "      <th>Transported</th>\n",
       "    </tr>\n",
       "  </thead>\n",
       "  <tbody>\n",
       "    <tr>\n",
       "      <th>2333</th>\n",
       "      <td>2513_01</td>\n",
       "      <td>Earth</td>\n",
       "      <td>False</td>\n",
       "      <td>NaN</td>\n",
       "      <td>TRAPPIST-1e</td>\n",
       "      <td>28.0</td>\n",
       "      <td>False</td>\n",
       "      <td>0.0</td>\n",
       "      <td>55.0</td>\n",
       "      <td>0.0</td>\n",
       "      <td>656.0</td>\n",
       "      <td>0.0</td>\n",
       "      <td>Loree Mathison</td>\n",
       "      <td>False</td>\n",
       "    </tr>\n",
       "    <tr>\n",
       "      <th>2589</th>\n",
       "      <td>2774_02</td>\n",
       "      <td>Earth</td>\n",
       "      <td>False</td>\n",
       "      <td>F/575/P</td>\n",
       "      <td>TRAPPIST-1e</td>\n",
       "      <td>17.0</td>\n",
       "      <td>False</td>\n",
       "      <td>0.0</td>\n",
       "      <td>1195.0</td>\n",
       "      <td>31.0</td>\n",
       "      <td>0.0</td>\n",
       "      <td>0.0</td>\n",
       "      <td>Crisey Mcbriddley</td>\n",
       "      <td>False</td>\n",
       "    </tr>\n",
       "    <tr>\n",
       "      <th>8302</th>\n",
       "      <td>8862_04</td>\n",
       "      <td>Europa</td>\n",
       "      <td>True</td>\n",
       "      <td>C/329/S</td>\n",
       "      <td>55 Cancri e</td>\n",
       "      <td>28.0</td>\n",
       "      <td>False</td>\n",
       "      <td>0.0</td>\n",
       "      <td>0.0</td>\n",
       "      <td>0.0</td>\n",
       "      <td>0.0</td>\n",
       "      <td>0.0</td>\n",
       "      <td>Alramix Myling</td>\n",
       "      <td>True</td>\n",
       "    </tr>\n",
       "    <tr>\n",
       "      <th>8177</th>\n",
       "      <td>8736_02</td>\n",
       "      <td>Mars</td>\n",
       "      <td>False</td>\n",
       "      <td>F/1800/P</td>\n",
       "      <td>TRAPPIST-1e</td>\n",
       "      <td>20.0</td>\n",
       "      <td>False</td>\n",
       "      <td>NaN</td>\n",
       "      <td>2.0</td>\n",
       "      <td>289.0</td>\n",
       "      <td>976.0</td>\n",
       "      <td>0.0</td>\n",
       "      <td>Tros Pota</td>\n",
       "      <td>True</td>\n",
       "    </tr>\n",
       "    <tr>\n",
       "      <th>500</th>\n",
       "      <td>0539_02</td>\n",
       "      <td>Europa</td>\n",
       "      <td>True</td>\n",
       "      <td>C/18/P</td>\n",
       "      <td>55 Cancri e</td>\n",
       "      <td>36.0</td>\n",
       "      <td>False</td>\n",
       "      <td>0.0</td>\n",
       "      <td>0.0</td>\n",
       "      <td>0.0</td>\n",
       "      <td>0.0</td>\n",
       "      <td>0.0</td>\n",
       "      <td>Achyon Nalanet</td>\n",
       "      <td>True</td>\n",
       "    </tr>\n",
       "  </tbody>\n",
       "</table>\n",
       "</div>"
      ],
      "text/plain": [
       "     PassengerId HomePlanet CryoSleep     Cabin  Destination   Age    VIP  \\\n",
       "2333     2513_01      Earth     False       NaN  TRAPPIST-1e  28.0  False   \n",
       "2589     2774_02      Earth     False   F/575/P  TRAPPIST-1e  17.0  False   \n",
       "8302     8862_04     Europa      True   C/329/S  55 Cancri e  28.0  False   \n",
       "8177     8736_02       Mars     False  F/1800/P  TRAPPIST-1e  20.0  False   \n",
       "500      0539_02     Europa      True    C/18/P  55 Cancri e  36.0  False   \n",
       "\n",
       "      RoomService  FoodCourt  ShoppingMall    Spa  VRDeck               Name  \\\n",
       "2333          0.0       55.0           0.0  656.0     0.0     Loree Mathison   \n",
       "2589          0.0     1195.0          31.0    0.0     0.0  Crisey Mcbriddley   \n",
       "8302          0.0        0.0           0.0    0.0     0.0     Alramix Myling   \n",
       "8177          NaN        2.0         289.0  976.0     0.0          Tros Pota   \n",
       "500           0.0        0.0           0.0    0.0     0.0     Achyon Nalanet   \n",
       "\n",
       "      Transported  \n",
       "2333        False  \n",
       "2589        False  \n",
       "8302         True  \n",
       "8177         True  \n",
       "500          True  "
      ]
     },
     "execution_count": 1157,
     "metadata": {},
     "output_type": "execute_result"
    }
   ],
   "source": [
    "train_data_copy.head()"
   ]
  },
  {
   "cell_type": "code",
   "execution_count": 1158,
   "metadata": {},
   "outputs": [
    {
     "data": {
      "text/plain": [
       "(6954, 14)"
      ]
     },
     "execution_count": 1158,
     "metadata": {},
     "output_type": "execute_result"
    }
   ],
   "source": [
    "train_data_copy.shape"
   ]
  },
  {
   "cell_type": "code",
   "execution_count": 1159,
   "metadata": {},
   "outputs": [
    {
     "data": {
      "text/plain": [
       "(5307, 14)"
      ]
     },
     "execution_count": 1159,
     "metadata": {},
     "output_type": "execute_result"
    }
   ],
   "source": [
    "train_data_copy = train_data_copy.dropna()\n",
    "test_data_copy = test_data_copy.dropna()\n",
    "train_data_copy.shape"
   ]
  },
  {
   "cell_type": "code",
   "execution_count": 1160,
   "metadata": {},
   "outputs": [],
   "source": [
    "train_data_copy['CryoSleep'] = train_data_copy['CryoSleep'].astype('int')\n",
    "test_data_copy['CryoSleep'] = test_data_copy['CryoSleep'].astype('int')\n",
    "\n",
    "train_data_copy['VIP'] = train_data_copy['VIP'].astype('int')\n",
    "test_data_copy['VIP'] = test_data_copy['VIP'].astype('int')\n",
    "\n",
    "train_data_copy['Transported'] = train_data_copy['Transported'].astype('int')\n",
    "test_data_copy['Transported'] = test_data_copy['Transported'].astype('int')"
   ]
  },
  {
   "cell_type": "code",
   "execution_count": 1161,
   "metadata": {},
   "outputs": [],
   "source": [
    "train_data_copy.drop(columns=['PassengerId', 'Name', 'HomePlanet', 'Destination', 'Cabin'], inplace=True)\n",
    "test_data_copy.drop(columns=['PassengerId', 'Name', 'HomePlanet', 'Destination', 'Cabin'], inplace=True)\n",
    "\n",
    "# train_data_copy.drop(columns=['PassengerId', 'Name'], inplace=True)\n",
    "# test_data_copy.drop(columns=['PassengerId', 'Name'], inplace=True)"
   ]
  },
  {
   "cell_type": "code",
   "execution_count": 1162,
   "metadata": {},
   "outputs": [
    {
     "data": {
      "text/html": [
       "<div>\n",
       "<style scoped>\n",
       "    .dataframe tbody tr th:only-of-type {\n",
       "        vertical-align: middle;\n",
       "    }\n",
       "\n",
       "    .dataframe tbody tr th {\n",
       "        vertical-align: top;\n",
       "    }\n",
       "\n",
       "    .dataframe thead th {\n",
       "        text-align: right;\n",
       "    }\n",
       "</style>\n",
       "<table border=\"1\" class=\"dataframe\">\n",
       "  <thead>\n",
       "    <tr style=\"text-align: right;\">\n",
       "      <th></th>\n",
       "      <th>CryoSleep</th>\n",
       "      <th>Age</th>\n",
       "      <th>VIP</th>\n",
       "      <th>RoomService</th>\n",
       "      <th>FoodCourt</th>\n",
       "      <th>ShoppingMall</th>\n",
       "      <th>Spa</th>\n",
       "      <th>VRDeck</th>\n",
       "      <th>Transported</th>\n",
       "    </tr>\n",
       "  </thead>\n",
       "  <tbody>\n",
       "    <tr>\n",
       "      <th>2589</th>\n",
       "      <td>0</td>\n",
       "      <td>17.0</td>\n",
       "      <td>0</td>\n",
       "      <td>0.0</td>\n",
       "      <td>1195.0</td>\n",
       "      <td>31.0</td>\n",
       "      <td>0.0</td>\n",
       "      <td>0.0</td>\n",
       "      <td>0</td>\n",
       "    </tr>\n",
       "    <tr>\n",
       "      <th>8302</th>\n",
       "      <td>1</td>\n",
       "      <td>28.0</td>\n",
       "      <td>0</td>\n",
       "      <td>0.0</td>\n",
       "      <td>0.0</td>\n",
       "      <td>0.0</td>\n",
       "      <td>0.0</td>\n",
       "      <td>0.0</td>\n",
       "      <td>1</td>\n",
       "    </tr>\n",
       "    <tr>\n",
       "      <th>500</th>\n",
       "      <td>1</td>\n",
       "      <td>36.0</td>\n",
       "      <td>0</td>\n",
       "      <td>0.0</td>\n",
       "      <td>0.0</td>\n",
       "      <td>0.0</td>\n",
       "      <td>0.0</td>\n",
       "      <td>0.0</td>\n",
       "      <td>1</td>\n",
       "    </tr>\n",
       "    <tr>\n",
       "      <th>7203</th>\n",
       "      <td>0</td>\n",
       "      <td>37.0</td>\n",
       "      <td>0</td>\n",
       "      <td>1000.0</td>\n",
       "      <td>0.0</td>\n",
       "      <td>80.0</td>\n",
       "      <td>40.0</td>\n",
       "      <td>0.0</td>\n",
       "      <td>0</td>\n",
       "    </tr>\n",
       "    <tr>\n",
       "      <th>6569</th>\n",
       "      <td>1</td>\n",
       "      <td>32.0</td>\n",
       "      <td>0</td>\n",
       "      <td>0.0</td>\n",
       "      <td>0.0</td>\n",
       "      <td>0.0</td>\n",
       "      <td>0.0</td>\n",
       "      <td>0.0</td>\n",
       "      <td>1</td>\n",
       "    </tr>\n",
       "  </tbody>\n",
       "</table>\n",
       "</div>"
      ],
      "text/plain": [
       "      CryoSleep   Age  VIP  RoomService  FoodCourt  ShoppingMall   Spa  \\\n",
       "2589          0  17.0    0          0.0     1195.0          31.0   0.0   \n",
       "8302          1  28.0    0          0.0        0.0           0.0   0.0   \n",
       "500           1  36.0    0          0.0        0.0           0.0   0.0   \n",
       "7203          0  37.0    0       1000.0        0.0          80.0  40.0   \n",
       "6569          1  32.0    0          0.0        0.0           0.0   0.0   \n",
       "\n",
       "      VRDeck  Transported  \n",
       "2589     0.0            0  \n",
       "8302     0.0            1  \n",
       "500      0.0            1  \n",
       "7203     0.0            0  \n",
       "6569     0.0            1  "
      ]
     },
     "execution_count": 1162,
     "metadata": {},
     "output_type": "execute_result"
    }
   ],
   "source": [
    "train_data_copy.head()"
   ]
  },
  {
   "cell_type": "code",
   "execution_count": 1163,
   "metadata": {},
   "outputs": [],
   "source": [
    "# co_encoder2 = CountEncoder()\n",
    "\n",
    "# cabin_train2 = train_data_copy['Cabin']\n",
    "# train_data_copy.drop(columns=['Cabin'], inplace=True)\n",
    "# cabin_train2 = pd.DataFrame(co_encoder.fit_transform(cabin_train2), columns=['Cabin'], index=cabin_train2.index)\n",
    "# train_data_copy = pd.concat([train_data_copy, cabin_train2], axis=1)\n",
    "\n",
    "# cabin_test2 = test_data_copy['Cabin']\n",
    "# test_data_copy.drop(columns=['Cabin'], inplace=True)\n",
    "# cabin_test2 = pd.DataFrame(co_encoder.transform(cabin_test2), columns=['Cabin'], index=cabin_test2.index)\n",
    "# test_data_copy = pd.concat([test_data_copy, cabin_test2], axis=1)"
   ]
  },
  {
   "cell_type": "code",
   "execution_count": 1164,
   "metadata": {},
   "outputs": [
    {
     "data": {
      "text/html": [
       "<div>\n",
       "<style scoped>\n",
       "    .dataframe tbody tr th:only-of-type {\n",
       "        vertical-align: middle;\n",
       "    }\n",
       "\n",
       "    .dataframe tbody tr th {\n",
       "        vertical-align: top;\n",
       "    }\n",
       "\n",
       "    .dataframe thead th {\n",
       "        text-align: right;\n",
       "    }\n",
       "</style>\n",
       "<table border=\"1\" class=\"dataframe\">\n",
       "  <thead>\n",
       "    <tr style=\"text-align: right;\">\n",
       "      <th></th>\n",
       "      <th>CryoSleep</th>\n",
       "      <th>Age</th>\n",
       "      <th>VIP</th>\n",
       "      <th>RoomService</th>\n",
       "      <th>FoodCourt</th>\n",
       "      <th>ShoppingMall</th>\n",
       "      <th>Spa</th>\n",
       "      <th>VRDeck</th>\n",
       "      <th>Transported</th>\n",
       "    </tr>\n",
       "  </thead>\n",
       "  <tbody>\n",
       "    <tr>\n",
       "      <th>2589</th>\n",
       "      <td>0</td>\n",
       "      <td>17.0</td>\n",
       "      <td>0</td>\n",
       "      <td>0.0</td>\n",
       "      <td>1195.0</td>\n",
       "      <td>31.0</td>\n",
       "      <td>0.0</td>\n",
       "      <td>0.0</td>\n",
       "      <td>0</td>\n",
       "    </tr>\n",
       "    <tr>\n",
       "      <th>8302</th>\n",
       "      <td>1</td>\n",
       "      <td>28.0</td>\n",
       "      <td>0</td>\n",
       "      <td>0.0</td>\n",
       "      <td>0.0</td>\n",
       "      <td>0.0</td>\n",
       "      <td>0.0</td>\n",
       "      <td>0.0</td>\n",
       "      <td>1</td>\n",
       "    </tr>\n",
       "    <tr>\n",
       "      <th>500</th>\n",
       "      <td>1</td>\n",
       "      <td>36.0</td>\n",
       "      <td>0</td>\n",
       "      <td>0.0</td>\n",
       "      <td>0.0</td>\n",
       "      <td>0.0</td>\n",
       "      <td>0.0</td>\n",
       "      <td>0.0</td>\n",
       "      <td>1</td>\n",
       "    </tr>\n",
       "    <tr>\n",
       "      <th>7203</th>\n",
       "      <td>0</td>\n",
       "      <td>37.0</td>\n",
       "      <td>0</td>\n",
       "      <td>1000.0</td>\n",
       "      <td>0.0</td>\n",
       "      <td>80.0</td>\n",
       "      <td>40.0</td>\n",
       "      <td>0.0</td>\n",
       "      <td>0</td>\n",
       "    </tr>\n",
       "    <tr>\n",
       "      <th>6569</th>\n",
       "      <td>1</td>\n",
       "      <td>32.0</td>\n",
       "      <td>0</td>\n",
       "      <td>0.0</td>\n",
       "      <td>0.0</td>\n",
       "      <td>0.0</td>\n",
       "      <td>0.0</td>\n",
       "      <td>0.0</td>\n",
       "      <td>1</td>\n",
       "    </tr>\n",
       "  </tbody>\n",
       "</table>\n",
       "</div>"
      ],
      "text/plain": [
       "      CryoSleep   Age  VIP  RoomService  FoodCourt  ShoppingMall   Spa  \\\n",
       "2589          0  17.0    0          0.0     1195.0          31.0   0.0   \n",
       "8302          1  28.0    0          0.0        0.0           0.0   0.0   \n",
       "500           1  36.0    0          0.0        0.0           0.0   0.0   \n",
       "7203          0  37.0    0       1000.0        0.0          80.0  40.0   \n",
       "6569          1  32.0    0          0.0        0.0           0.0   0.0   \n",
       "\n",
       "      VRDeck  Transported  \n",
       "2589     0.0            0  \n",
       "8302     0.0            1  \n",
       "500      0.0            1  \n",
       "7203     0.0            0  \n",
       "6569     0.0            1  "
      ]
     },
     "execution_count": 1164,
     "metadata": {},
     "output_type": "execute_result"
    }
   ],
   "source": [
    "train_data_copy.head()"
   ]
  },
  {
   "cell_type": "code",
   "execution_count": 1165,
   "metadata": {},
   "outputs": [],
   "source": [
    "train_copy_y = train_data_copy.iloc[:, 8].to_numpy()\n",
    "train_copy_x = train_data_copy.drop(columns=['Transported'])\n",
    "\n",
    "test_copy_y = test_data_copy.iloc[:, 8].to_numpy()\n",
    "test_copy_x = test_data_copy.drop(columns=['Transported'])"
   ]
  },
  {
   "cell_type": "code",
   "execution_count": 1166,
   "metadata": {},
   "outputs": [],
   "source": [
    "st_scaler2 = StandardScaler()\n",
    "\n",
    "train_copy_x = pd.DataFrame(st_scaler2.fit_transform(train_copy_x), columns=train_copy_x.columns, index=train_copy_x.index)\n",
    "test_copy_x = pd.DataFrame(st_scaler2.transform(test_copy_x), columns=test_copy_x.columns, index=test_copy_x.index)"
   ]
  },
  {
   "cell_type": "code",
   "execution_count": 1167,
   "metadata": {},
   "outputs": [
    {
     "name": "stdout",
     "output_type": "stream",
     "text": [
      "train_data report:\n"
     ]
    },
    {
     "data": {
      "image/png": "[encoded data removed]",
      "text/plain": [
       "<Figure size 864x360 with 3 Axes>"
      ]
     },
     "metadata": {
      "needs_background": "light"
     },
     "output_type": "display_data"
    },
    {
     "name": "stdout",
     "output_type": "stream",
     "text": [
      "Acuuracy: 0.76351987940456\n",
      "F1_score: 0.7409700722394221\n",
      "test_data report:\n"
     ]
    },
    {
     "data": {
      "image/png": "[encoded data removed]",
      "text/plain": [
       "<Figure size 864x360 with 3 Axes>"
      ]
     },
     "metadata": {
      "needs_background": "light"
     },
     "output_type": "display_data"
    },
    {
     "name": "stdout",
     "output_type": "stream",
     "text": [
      "Acuuracy: 0.7575057736720554\n",
      "F1_score: 0.7432762836185819\n"
     ]
    }
   ],
   "source": [
    "lda2 = LinearDiscriminantAnalysis(solver='lsqr')\n",
    "model_train_test_evaluating(train_copy_x, train_copy_y, test_copy_x, test_copy_y, model=lda2)"
   ]
  },
  {
   "cell_type": "code",
   "execution_count": null,
   "metadata": {},
   "outputs": [],
   "source": []
  },
  {
   "cell_type": "code",
   "execution_count": null,
   "metadata": {},
   "outputs": [],
   "source": []
  }
 ],
 "metadata": {
  "kernelspec": {
   "display_name": "Python 3",
   "language": "python",
   "name": "python3"
  },
  "language_info": {
   "codemirror_mode": {
    "name": "ipython",
    "version": 3
   },
   "file_extension": ".py",
   "mimetype": "text/x-python",
   "name": "python",
   "nbconvert_exporter": "python",
   "pygments_lexer": "ipython3",
   "version": "3.10.4"
  }
 },
 "nbformat": 4,
 "nbformat_minor": 2
}
